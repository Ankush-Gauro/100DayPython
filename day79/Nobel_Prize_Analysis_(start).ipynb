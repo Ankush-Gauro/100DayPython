{
  "cells": [
    {
      "cell_type": "markdown",
      "metadata": {
        "id": "FuDxBL8UamHp"
      },
      "source": [
        "# Setup and Context"
      ]
    },
    {
      "cell_type": "markdown",
      "metadata": {
        "id": "9vYVhf9vo7LK"
      },
      "source": [
        "### Introduction\n",
        "\n",
        "On November 27, 1895, Alfred Nobel signed his last will in Paris. When it was opened after his death, the will caused a lot of controversy, as Nobel had left much of his wealth for the establishment of a prize.\n",
        "\n",
        "Alfred Nobel dictates that his entire remaining estate should be used to endow “prizes to those who, during the preceding year, have conferred the greatest benefit to humankind”.\n",
        "\n",
        "Every year the Nobel Prize is given to scientists and scholars in the categories chemistry, literature, physics, physiology or medicine, economics, and peace. \n",
        "\n",
        "<img src=https://i.imgur.com/36pCx5Q.jpg>\n",
        "\n",
        "Let's see what patterns we can find in the data of the past Nobel laureates. What can we learn about the Nobel prize and our world more generally?"
      ]
    },
    {
      "cell_type": "markdown",
      "metadata": {
        "id": "RaHW4kg0sZKP"
      },
      "source": [
        "### Upgrade plotly (only Google Colab Notebook)\n",
        "\n",
        "Google Colab may not be running the latest version of plotly. If you're working in Google Colab, uncomment the line below, run the cell, and restart your notebook server. "
      ]
    },
    {
      "cell_type": "code",
      "execution_count": null,
      "metadata": {
        "id": "od8BRWbAsGxS"
      },
      "outputs": [],
      "source": [
        "# %pip install --upgrade plotly"
      ]
    },
    {
      "cell_type": "markdown",
      "metadata": {
        "id": "QPnGYVYyo7LK"
      },
      "source": [
        "### Import Statements"
      ]
    },
    {
      "cell_type": "code",
      "execution_count": 1,
      "metadata": {
        "id": "dCIwm0dLo7LL"
      },
      "outputs": [],
      "source": [
        "import pandas as pd\n",
        "import numpy as np\n",
        "import plotly.express as px\n",
        "import seaborn as sns\n",
        "import matplotlib.pyplot as plt"
      ]
    },
    {
      "cell_type": "markdown",
      "metadata": {
        "id": "FcJY6qfNo7LN"
      },
      "source": [
        "### Notebook Presentation"
      ]
    },
    {
      "cell_type": "code",
      "execution_count": 2,
      "metadata": {
        "id": "RjzC6BoMo7LO"
      },
      "outputs": [],
      "source": [
        "pd.options.display.float_format = '{:,.2f}'.format"
      ]
    },
    {
      "cell_type": "markdown",
      "metadata": {
        "id": "eoQ5Af4wo7LQ"
      },
      "source": [
        "### Read the Data"
      ]
    },
    {
      "cell_type": "code",
      "execution_count": 3,
      "metadata": {
        "id": "EbVGyi7Eo7LQ"
      },
      "outputs": [],
      "source": [
        "df_data = pd.read_csv('nobel_prize_data.csv')"
      ]
    },
    {
      "cell_type": "markdown",
      "metadata": {
        "id": "XZzHD-1dKKbr"
      },
      "source": [
        "Caveats: The exact birth dates for Michael Houghton, Venkatraman Ramakrishnan, and Nadia Murad are unknown. I've substituted them with mid-year estimate of July 2nd. \n"
      ]
    },
    {
      "cell_type": "markdown",
      "metadata": {
        "id": "rYlGEluAo7LS"
      },
      "source": [
        "# Data Exploration & Cleaning\n",
        "\n",
        "**Challenge**: Preliminary data exploration. \n",
        "* What is the shape of `df_data`? How many rows and columns?\n",
        "* What are the column names?\n",
        "* In which year was the Nobel prize first awarded?\n",
        "* Which year is the latest year included in the dataset?"
      ]
    },
    {
      "cell_type": "code",
      "execution_count": 4,
      "metadata": {
        "id": "4U-OQVRbFOu6"
      },
      "outputs": [
        {
          "data": {
            "text/plain": [
              "(962, 16)"
            ]
          },
          "execution_count": 4,
          "metadata": {},
          "output_type": "execute_result"
        }
      ],
      "source": [
        "df_data.shape"
      ]
    },
    {
      "cell_type": "code",
      "execution_count": 5,
      "metadata": {
        "id": "Iy6cDcXAFOsV"
      },
      "outputs": [
        {
          "data": {
            "text/html": [
              "<div>\n",
              "<style scoped>\n",
              "    .dataframe tbody tr th:only-of-type {\n",
              "        vertical-align: middle;\n",
              "    }\n",
              "\n",
              "    .dataframe tbody tr th {\n",
              "        vertical-align: top;\n",
              "    }\n",
              "\n",
              "    .dataframe thead th {\n",
              "        text-align: right;\n",
              "    }\n",
              "</style>\n",
              "<table border=\"1\" class=\"dataframe\">\n",
              "  <thead>\n",
              "    <tr style=\"text-align: right;\">\n",
              "      <th></th>\n",
              "      <th>year</th>\n",
              "      <th>category</th>\n",
              "      <th>prize</th>\n",
              "      <th>motivation</th>\n",
              "      <th>prize_share</th>\n",
              "      <th>laureate_type</th>\n",
              "      <th>full_name</th>\n",
              "      <th>birth_date</th>\n",
              "      <th>birth_city</th>\n",
              "      <th>birth_country</th>\n",
              "      <th>birth_country_current</th>\n",
              "      <th>sex</th>\n",
              "      <th>organization_name</th>\n",
              "      <th>organization_city</th>\n",
              "      <th>organization_country</th>\n",
              "      <th>ISO</th>\n",
              "    </tr>\n",
              "  </thead>\n",
              "  <tbody>\n",
              "    <tr>\n",
              "      <th>0</th>\n",
              "      <td>1901</td>\n",
              "      <td>Chemistry</td>\n",
              "      <td>The Nobel Prize in Chemistry 1901</td>\n",
              "      <td>\"in recognition of the extraordinary services ...</td>\n",
              "      <td>1/1</td>\n",
              "      <td>Individual</td>\n",
              "      <td>Jacobus Henricus van 't Hoff</td>\n",
              "      <td>1852-08-30</td>\n",
              "      <td>Rotterdam</td>\n",
              "      <td>Netherlands</td>\n",
              "      <td>Netherlands</td>\n",
              "      <td>Male</td>\n",
              "      <td>Berlin University</td>\n",
              "      <td>Berlin</td>\n",
              "      <td>Germany</td>\n",
              "      <td>NLD</td>\n",
              "    </tr>\n",
              "    <tr>\n",
              "      <th>1</th>\n",
              "      <td>1901</td>\n",
              "      <td>Literature</td>\n",
              "      <td>The Nobel Prize in Literature 1901</td>\n",
              "      <td>\"in special recognition of his poetic composit...</td>\n",
              "      <td>1/1</td>\n",
              "      <td>Individual</td>\n",
              "      <td>Sully Prudhomme</td>\n",
              "      <td>1839-03-16</td>\n",
              "      <td>Paris</td>\n",
              "      <td>France</td>\n",
              "      <td>France</td>\n",
              "      <td>Male</td>\n",
              "      <td>NaN</td>\n",
              "      <td>NaN</td>\n",
              "      <td>NaN</td>\n",
              "      <td>FRA</td>\n",
              "    </tr>\n",
              "    <tr>\n",
              "      <th>2</th>\n",
              "      <td>1901</td>\n",
              "      <td>Medicine</td>\n",
              "      <td>The Nobel Prize in Physiology or Medicine 1901</td>\n",
              "      <td>\"for his work on serum therapy, especially its...</td>\n",
              "      <td>1/1</td>\n",
              "      <td>Individual</td>\n",
              "      <td>Emil Adolf von Behring</td>\n",
              "      <td>1854-03-15</td>\n",
              "      <td>Hansdorf (Lawice)</td>\n",
              "      <td>Prussia (Poland)</td>\n",
              "      <td>Poland</td>\n",
              "      <td>Male</td>\n",
              "      <td>Marburg University</td>\n",
              "      <td>Marburg</td>\n",
              "      <td>Germany</td>\n",
              "      <td>POL</td>\n",
              "    </tr>\n",
              "    <tr>\n",
              "      <th>3</th>\n",
              "      <td>1901</td>\n",
              "      <td>Peace</td>\n",
              "      <td>The Nobel Peace Prize 1901</td>\n",
              "      <td>NaN</td>\n",
              "      <td>1/2</td>\n",
              "      <td>Individual</td>\n",
              "      <td>Frédéric Passy</td>\n",
              "      <td>1822-05-20</td>\n",
              "      <td>Paris</td>\n",
              "      <td>France</td>\n",
              "      <td>France</td>\n",
              "      <td>Male</td>\n",
              "      <td>NaN</td>\n",
              "      <td>NaN</td>\n",
              "      <td>NaN</td>\n",
              "      <td>FRA</td>\n",
              "    </tr>\n",
              "    <tr>\n",
              "      <th>4</th>\n",
              "      <td>1901</td>\n",
              "      <td>Peace</td>\n",
              "      <td>The Nobel Peace Prize 1901</td>\n",
              "      <td>NaN</td>\n",
              "      <td>1/2</td>\n",
              "      <td>Individual</td>\n",
              "      <td>Jean Henry Dunant</td>\n",
              "      <td>1828-05-08</td>\n",
              "      <td>Geneva</td>\n",
              "      <td>Switzerland</td>\n",
              "      <td>Switzerland</td>\n",
              "      <td>Male</td>\n",
              "      <td>NaN</td>\n",
              "      <td>NaN</td>\n",
              "      <td>NaN</td>\n",
              "      <td>CHE</td>\n",
              "    </tr>\n",
              "  </tbody>\n",
              "</table>\n",
              "</div>"
            ],
            "text/plain": [
              "   year    category                                           prize  \\\n",
              "0  1901   Chemistry               The Nobel Prize in Chemistry 1901   \n",
              "1  1901  Literature              The Nobel Prize in Literature 1901   \n",
              "2  1901    Medicine  The Nobel Prize in Physiology or Medicine 1901   \n",
              "3  1901       Peace                      The Nobel Peace Prize 1901   \n",
              "4  1901       Peace                      The Nobel Peace Prize 1901   \n",
              "\n",
              "                                          motivation prize_share  \\\n",
              "0  \"in recognition of the extraordinary services ...         1/1   \n",
              "1  \"in special recognition of his poetic composit...         1/1   \n",
              "2  \"for his work on serum therapy, especially its...         1/1   \n",
              "3                                                NaN         1/2   \n",
              "4                                                NaN         1/2   \n",
              "\n",
              "  laureate_type                     full_name  birth_date         birth_city  \\\n",
              "0    Individual  Jacobus Henricus van 't Hoff  1852-08-30          Rotterdam   \n",
              "1    Individual               Sully Prudhomme  1839-03-16              Paris   \n",
              "2    Individual        Emil Adolf von Behring  1854-03-15  Hansdorf (Lawice)   \n",
              "3    Individual                Frédéric Passy  1822-05-20              Paris   \n",
              "4    Individual             Jean Henry Dunant  1828-05-08             Geneva   \n",
              "\n",
              "      birth_country birth_country_current   sex   organization_name  \\\n",
              "0       Netherlands           Netherlands  Male   Berlin University   \n",
              "1            France                France  Male                 NaN   \n",
              "2  Prussia (Poland)                Poland  Male  Marburg University   \n",
              "3            France                France  Male                 NaN   \n",
              "4       Switzerland           Switzerland  Male                 NaN   \n",
              "\n",
              "  organization_city organization_country  ISO  \n",
              "0            Berlin              Germany  NLD  \n",
              "1               NaN                  NaN  FRA  \n",
              "2           Marburg              Germany  POL  \n",
              "3               NaN                  NaN  FRA  \n",
              "4               NaN                  NaN  CHE  "
            ]
          },
          "execution_count": 5,
          "metadata": {},
          "output_type": "execute_result"
        }
      ],
      "source": [
        "df_data.head()"
      ]
    },
    {
      "cell_type": "code",
      "execution_count": 6,
      "metadata": {},
      "outputs": [
        {
          "data": {
            "text/html": [
              "<div>\n",
              "<style scoped>\n",
              "    .dataframe tbody tr th:only-of-type {\n",
              "        vertical-align: middle;\n",
              "    }\n",
              "\n",
              "    .dataframe tbody tr th {\n",
              "        vertical-align: top;\n",
              "    }\n",
              "\n",
              "    .dataframe thead th {\n",
              "        text-align: right;\n",
              "    }\n",
              "</style>\n",
              "<table border=\"1\" class=\"dataframe\">\n",
              "  <thead>\n",
              "    <tr style=\"text-align: right;\">\n",
              "      <th></th>\n",
              "      <th>year</th>\n",
              "      <th>category</th>\n",
              "      <th>prize</th>\n",
              "      <th>motivation</th>\n",
              "      <th>prize_share</th>\n",
              "      <th>laureate_type</th>\n",
              "      <th>full_name</th>\n",
              "      <th>birth_date</th>\n",
              "      <th>birth_city</th>\n",
              "      <th>birth_country</th>\n",
              "      <th>birth_country_current</th>\n",
              "      <th>sex</th>\n",
              "      <th>organization_name</th>\n",
              "      <th>organization_city</th>\n",
              "      <th>organization_country</th>\n",
              "      <th>ISO</th>\n",
              "    </tr>\n",
              "  </thead>\n",
              "  <tbody>\n",
              "    <tr>\n",
              "      <th>957</th>\n",
              "      <td>2020</td>\n",
              "      <td>Medicine</td>\n",
              "      <td>The Nobel Prize in Physiology or Medicine 2020</td>\n",
              "      <td>“for the discovery of Hepatitis C virus”</td>\n",
              "      <td>1/3</td>\n",
              "      <td>Individual</td>\n",
              "      <td>Michael Houghton</td>\n",
              "      <td>1949-07-02</td>\n",
              "      <td>NaN</td>\n",
              "      <td>United Kingdom</td>\n",
              "      <td>United Kingdom</td>\n",
              "      <td>Male</td>\n",
              "      <td>University of Alberta</td>\n",
              "      <td>Edmonton</td>\n",
              "      <td>Canada</td>\n",
              "      <td>GBR</td>\n",
              "    </tr>\n",
              "    <tr>\n",
              "      <th>958</th>\n",
              "      <td>2020</td>\n",
              "      <td>Peace</td>\n",
              "      <td>The Nobel Peace Prize 2020</td>\n",
              "      <td>“for its efforts to combat hunger, for its con...</td>\n",
              "      <td>1/1</td>\n",
              "      <td>Organization</td>\n",
              "      <td>World Food Programme (WFP)</td>\n",
              "      <td>NaN</td>\n",
              "      <td>NaN</td>\n",
              "      <td>NaN</td>\n",
              "      <td>NaN</td>\n",
              "      <td>NaN</td>\n",
              "      <td>NaN</td>\n",
              "      <td>NaN</td>\n",
              "      <td>NaN</td>\n",
              "      <td>NaN</td>\n",
              "    </tr>\n",
              "    <tr>\n",
              "      <th>959</th>\n",
              "      <td>2020</td>\n",
              "      <td>Physics</td>\n",
              "      <td>The Nobel Prize in Physics 2020</td>\n",
              "      <td>“for the discovery of a supermassive compact o...</td>\n",
              "      <td>1/4</td>\n",
              "      <td>Individual</td>\n",
              "      <td>Andrea Ghez</td>\n",
              "      <td>1965-06-16</td>\n",
              "      <td>New York, NY</td>\n",
              "      <td>United States of America</td>\n",
              "      <td>United States of America</td>\n",
              "      <td>Female</td>\n",
              "      <td>University of California</td>\n",
              "      <td>Berkeley, CA</td>\n",
              "      <td>United States of America</td>\n",
              "      <td>USA</td>\n",
              "    </tr>\n",
              "    <tr>\n",
              "      <th>960</th>\n",
              "      <td>2020</td>\n",
              "      <td>Physics</td>\n",
              "      <td>The Nobel Prize in Physics 2020</td>\n",
              "      <td>“for the discovery of a supermassive compact o...</td>\n",
              "      <td>1/4</td>\n",
              "      <td>Individual</td>\n",
              "      <td>Reinhard Genzel</td>\n",
              "      <td>1952-03-24</td>\n",
              "      <td>Bad Homburg vor der Höhe</td>\n",
              "      <td>Germany</td>\n",
              "      <td>Germany</td>\n",
              "      <td>Male</td>\n",
              "      <td>University of California</td>\n",
              "      <td>Los Angeles, CA</td>\n",
              "      <td>United States of America</td>\n",
              "      <td>DEU</td>\n",
              "    </tr>\n",
              "    <tr>\n",
              "      <th>961</th>\n",
              "      <td>2020</td>\n",
              "      <td>Physics</td>\n",
              "      <td>The Nobel Prize in Physics 2020</td>\n",
              "      <td>“for the discovery that black hole formation i...</td>\n",
              "      <td>1/2</td>\n",
              "      <td>Individual</td>\n",
              "      <td>Roger Penrose</td>\n",
              "      <td>1931-08-08</td>\n",
              "      <td>Colchester</td>\n",
              "      <td>United Kingdom</td>\n",
              "      <td>United Kingdom</td>\n",
              "      <td>Male</td>\n",
              "      <td>University of Oxford</td>\n",
              "      <td>Oxford</td>\n",
              "      <td>United Kingdom</td>\n",
              "      <td>GBR</td>\n",
              "    </tr>\n",
              "  </tbody>\n",
              "</table>\n",
              "</div>"
            ],
            "text/plain": [
              "     year  category                                           prize  \\\n",
              "957  2020  Medicine  The Nobel Prize in Physiology or Medicine 2020   \n",
              "958  2020     Peace                      The Nobel Peace Prize 2020   \n",
              "959  2020   Physics                 The Nobel Prize in Physics 2020   \n",
              "960  2020   Physics                 The Nobel Prize in Physics 2020   \n",
              "961  2020   Physics                 The Nobel Prize in Physics 2020   \n",
              "\n",
              "                                            motivation prize_share  \\\n",
              "957           “for the discovery of Hepatitis C virus”         1/3   \n",
              "958  “for its efforts to combat hunger, for its con...         1/1   \n",
              "959  “for the discovery of a supermassive compact o...         1/4   \n",
              "960  “for the discovery of a supermassive compact o...         1/4   \n",
              "961  “for the discovery that black hole formation i...         1/2   \n",
              "\n",
              "    laureate_type                   full_name  birth_date  \\\n",
              "957    Individual            Michael Houghton  1949-07-02   \n",
              "958  Organization  World Food Programme (WFP)         NaN   \n",
              "959    Individual                 Andrea Ghez  1965-06-16   \n",
              "960    Individual             Reinhard Genzel  1952-03-24   \n",
              "961    Individual               Roger Penrose  1931-08-08   \n",
              "\n",
              "                   birth_city             birth_country  \\\n",
              "957                       NaN            United Kingdom   \n",
              "958                       NaN                       NaN   \n",
              "959              New York, NY  United States of America   \n",
              "960  Bad Homburg vor der Höhe                   Germany   \n",
              "961                Colchester            United Kingdom   \n",
              "\n",
              "        birth_country_current     sex         organization_name  \\\n",
              "957            United Kingdom    Male     University of Alberta   \n",
              "958                       NaN     NaN                       NaN   \n",
              "959  United States of America  Female  University of California   \n",
              "960                   Germany    Male  University of California   \n",
              "961            United Kingdom    Male      University of Oxford   \n",
              "\n",
              "    organization_city      organization_country  ISO  \n",
              "957          Edmonton                    Canada  GBR  \n",
              "958               NaN                       NaN  NaN  \n",
              "959      Berkeley, CA  United States of America  USA  \n",
              "960   Los Angeles, CA  United States of America  DEU  \n",
              "961            Oxford            United Kingdom  GBR  "
            ]
          },
          "execution_count": 6,
          "metadata": {},
          "output_type": "execute_result"
        }
      ],
      "source": [
        "df_data.tail()"
      ]
    },
    {
      "cell_type": "code",
      "execution_count": 9,
      "metadata": {},
      "outputs": [
        {
          "data": {
            "text/html": [
              "<div>\n",
              "<style scoped>\n",
              "    .dataframe tbody tr th:only-of-type {\n",
              "        vertical-align: middle;\n",
              "    }\n",
              "\n",
              "    .dataframe tbody tr th {\n",
              "        vertical-align: top;\n",
              "    }\n",
              "\n",
              "    .dataframe thead th {\n",
              "        text-align: right;\n",
              "    }\n",
              "</style>\n",
              "<table border=\"1\" class=\"dataframe\">\n",
              "  <thead>\n",
              "    <tr style=\"text-align: right;\">\n",
              "      <th></th>\n",
              "      <th>year</th>\n",
              "      <th>category</th>\n",
              "      <th>prize</th>\n",
              "      <th>motivation</th>\n",
              "      <th>prize_share</th>\n",
              "      <th>laureate_type</th>\n",
              "      <th>full_name</th>\n",
              "      <th>birth_date</th>\n",
              "      <th>birth_city</th>\n",
              "      <th>birth_country</th>\n",
              "      <th>birth_country_current</th>\n",
              "      <th>sex</th>\n",
              "      <th>organization_name</th>\n",
              "      <th>organization_city</th>\n",
              "      <th>organization_country</th>\n",
              "      <th>ISO</th>\n",
              "    </tr>\n",
              "  </thead>\n",
              "  <tbody>\n",
              "    <tr>\n",
              "      <th>115</th>\n",
              "      <td>1923</td>\n",
              "      <td>Medicine</td>\n",
              "      <td>The Nobel Prize in Physiology or Medicine 1923</td>\n",
              "      <td>\"for the discovery of insulin\"</td>\n",
              "      <td>1/2</td>\n",
              "      <td>Individual</td>\n",
              "      <td>Frederick Grant Banting</td>\n",
              "      <td>1891-11-14</td>\n",
              "      <td>Alliston</td>\n",
              "      <td>Canada</td>\n",
              "      <td>Canada</td>\n",
              "      <td>Male</td>\n",
              "      <td>University of Toronto</td>\n",
              "      <td>Toronto</td>\n",
              "      <td>Canada</td>\n",
              "      <td>CAN</td>\n",
              "    </tr>\n",
              "    <tr>\n",
              "      <th>244</th>\n",
              "      <td>1949</td>\n",
              "      <td>Chemistry</td>\n",
              "      <td>The Nobel Prize in Chemistry 1949</td>\n",
              "      <td>\"for his contributions in the field of chemica...</td>\n",
              "      <td>1/1</td>\n",
              "      <td>Individual</td>\n",
              "      <td>William Francis Giauque</td>\n",
              "      <td>1895-05-12</td>\n",
              "      <td>Niagara Falls</td>\n",
              "      <td>Canada</td>\n",
              "      <td>Canada</td>\n",
              "      <td>Male</td>\n",
              "      <td>University of California</td>\n",
              "      <td>Berkeley, CA</td>\n",
              "      <td>United States of America</td>\n",
              "      <td>CAN</td>\n",
              "    </tr>\n",
              "    <tr>\n",
              "      <th>303</th>\n",
              "      <td>1957</td>\n",
              "      <td>Peace</td>\n",
              "      <td>The Nobel Peace Prize 1957</td>\n",
              "      <td>NaN</td>\n",
              "      <td>1/1</td>\n",
              "      <td>Individual</td>\n",
              "      <td>Lester Bowles Pearson</td>\n",
              "      <td>1897-04-23</td>\n",
              "      <td>Toronto</td>\n",
              "      <td>Canada</td>\n",
              "      <td>Canada</td>\n",
              "      <td>Male</td>\n",
              "      <td>NaN</td>\n",
              "      <td>NaN</td>\n",
              "      <td>NaN</td>\n",
              "      <td>CAN</td>\n",
              "    </tr>\n",
              "    <tr>\n",
              "      <th>373</th>\n",
              "      <td>1966</td>\n",
              "      <td>Medicine</td>\n",
              "      <td>The Nobel Prize in Physiology or Medicine 1966</td>\n",
              "      <td>\"for his discoveries concerning hormonal treat...</td>\n",
              "      <td>1/2</td>\n",
              "      <td>Individual</td>\n",
              "      <td>Charles Brenton Huggins</td>\n",
              "      <td>1901-09-22</td>\n",
              "      <td>Halifax</td>\n",
              "      <td>Canada</td>\n",
              "      <td>Canada</td>\n",
              "      <td>Male</td>\n",
              "      <td>University of Chicago</td>\n",
              "      <td>Chicago, IL</td>\n",
              "      <td>United States of America</td>\n",
              "      <td>CAN</td>\n",
              "    </tr>\n",
              "    <tr>\n",
              "      <th>465</th>\n",
              "      <td>1976</td>\n",
              "      <td>Literature</td>\n",
              "      <td>The Nobel Prize in Literature 1976</td>\n",
              "      <td>\"for the human understanding and subtle analys...</td>\n",
              "      <td>1/1</td>\n",
              "      <td>Individual</td>\n",
              "      <td>Saul Bellow</td>\n",
              "      <td>1915-06-10</td>\n",
              "      <td>Montreal</td>\n",
              "      <td>Canada</td>\n",
              "      <td>Canada</td>\n",
              "      <td>Male</td>\n",
              "      <td>NaN</td>\n",
              "      <td>NaN</td>\n",
              "      <td>NaN</td>\n",
              "      <td>CAN</td>\n",
              "    </tr>\n",
              "    <tr>\n",
              "      <th>520</th>\n",
              "      <td>1981</td>\n",
              "      <td>Medicine</td>\n",
              "      <td>The Nobel Prize in Physiology or Medicine 1981</td>\n",
              "      <td>\"for their discoveries concerning information ...</td>\n",
              "      <td>1/4</td>\n",
              "      <td>Individual</td>\n",
              "      <td>David H. Hubel</td>\n",
              "      <td>1926-02-27</td>\n",
              "      <td>Windsor, ON</td>\n",
              "      <td>Canada</td>\n",
              "      <td>Canada</td>\n",
              "      <td>Male</td>\n",
              "      <td>Harvard Medical School</td>\n",
              "      <td>Boston, MA</td>\n",
              "      <td>United States of America</td>\n",
              "      <td>CAN</td>\n",
              "    </tr>\n",
              "    <tr>\n",
              "      <th>536</th>\n",
              "      <td>1983</td>\n",
              "      <td>Chemistry</td>\n",
              "      <td>The Nobel Prize in Chemistry 1983</td>\n",
              "      <td>\"for his work on the mechanisms of electron tr...</td>\n",
              "      <td>1/1</td>\n",
              "      <td>Individual</td>\n",
              "      <td>Henry Taube</td>\n",
              "      <td>1915-11-30</td>\n",
              "      <td>Neudorf</td>\n",
              "      <td>Canada</td>\n",
              "      <td>Canada</td>\n",
              "      <td>Male</td>\n",
              "      <td>Stanford University</td>\n",
              "      <td>Stanford, CA</td>\n",
              "      <td>United States of America</td>\n",
              "      <td>CAN</td>\n",
              "    </tr>\n",
              "    <tr>\n",
              "      <th>592</th>\n",
              "      <td>1989</td>\n",
              "      <td>Chemistry</td>\n",
              "      <td>The Nobel Prize in Chemistry 1989</td>\n",
              "      <td>\"for their discovery of catalytic properties o...</td>\n",
              "      <td>1/2</td>\n",
              "      <td>Individual</td>\n",
              "      <td>Sidney Altman</td>\n",
              "      <td>1939-05-07</td>\n",
              "      <td>Montreal</td>\n",
              "      <td>Canada</td>\n",
              "      <td>Canada</td>\n",
              "      <td>Male</td>\n",
              "      <td>Yale University</td>\n",
              "      <td>New Haven, CT</td>\n",
              "      <td>United States of America</td>\n",
              "      <td>CAN</td>\n",
              "    </tr>\n",
              "    <tr>\n",
              "      <th>612</th>\n",
              "      <td>1990</td>\n",
              "      <td>Physics</td>\n",
              "      <td>The Nobel Prize in Physics 1990</td>\n",
              "      <td>\"for their pioneering investigations concernin...</td>\n",
              "      <td>1/3</td>\n",
              "      <td>Individual</td>\n",
              "      <td>Richard E. Taylor</td>\n",
              "      <td>1929-11-02</td>\n",
              "      <td>Medicine Hat, Alberta</td>\n",
              "      <td>Canada</td>\n",
              "      <td>Canada</td>\n",
              "      <td>Male</td>\n",
              "      <td>Stanford University</td>\n",
              "      <td>Stanford, CA</td>\n",
              "      <td>United States of America</td>\n",
              "      <td>CAN</td>\n",
              "    </tr>\n",
              "    <tr>\n",
              "      <th>620</th>\n",
              "      <td>1992</td>\n",
              "      <td>Chemistry</td>\n",
              "      <td>The Nobel Prize in Chemistry 1992</td>\n",
              "      <td>\"for his contributions to the theory of electr...</td>\n",
              "      <td>1/1</td>\n",
              "      <td>Individual</td>\n",
              "      <td>Rudolph A. Marcus</td>\n",
              "      <td>1923-07-21</td>\n",
              "      <td>Montreal</td>\n",
              "      <td>Canada</td>\n",
              "      <td>Canada</td>\n",
              "      <td>Male</td>\n",
              "      <td>California Institute of Technology (Caltech)</td>\n",
              "      <td>Pasadena, CA</td>\n",
              "      <td>United States of America</td>\n",
              "      <td>CAN</td>\n",
              "    </tr>\n",
              "    <tr>\n",
              "      <th>648</th>\n",
              "      <td>1994</td>\n",
              "      <td>Physics</td>\n",
              "      <td>The Nobel Prize in Physics 1994</td>\n",
              "      <td>\"for pioneering contributions to the developme...</td>\n",
              "      <td>1/2</td>\n",
              "      <td>Individual</td>\n",
              "      <td>Bertram N. Brockhouse</td>\n",
              "      <td>1918-07-15</td>\n",
              "      <td>Lethbridge, Alberta</td>\n",
              "      <td>Canada</td>\n",
              "      <td>Canada</td>\n",
              "      <td>Male</td>\n",
              "      <td>McMaster University</td>\n",
              "      <td>Hamilton, Ontario</td>\n",
              "      <td>Canada</td>\n",
              "      <td>CAN</td>\n",
              "    </tr>\n",
              "    <tr>\n",
              "      <th>666</th>\n",
              "      <td>1996</td>\n",
              "      <td>Economics</td>\n",
              "      <td>The Sveriges Riksbank Prize in Economic Scienc...</td>\n",
              "      <td>\"for their fundamental contributions to the ec...</td>\n",
              "      <td>1/2</td>\n",
              "      <td>Individual</td>\n",
              "      <td>William Vickrey</td>\n",
              "      <td>1914-06-21</td>\n",
              "      <td>Victoria, BC</td>\n",
              "      <td>Canada</td>\n",
              "      <td>Canada</td>\n",
              "      <td>Male</td>\n",
              "      <td>Columbia University</td>\n",
              "      <td>New York, NY</td>\n",
              "      <td>United States of America</td>\n",
              "      <td>CAN</td>\n",
              "    </tr>\n",
              "    <tr>\n",
              "      <th>678</th>\n",
              "      <td>1997</td>\n",
              "      <td>Economics</td>\n",
              "      <td>The Sveriges Riksbank Prize in Economic Scienc...</td>\n",
              "      <td>\"for a new method to determine the value of de...</td>\n",
              "      <td>1/2</td>\n",
              "      <td>Individual</td>\n",
              "      <td>Myron S. Scholes</td>\n",
              "      <td>1941-07-01</td>\n",
              "      <td>Timmins, ON</td>\n",
              "      <td>Canada</td>\n",
              "      <td>Canada</td>\n",
              "      <td>Male</td>\n",
              "      <td>Long Term Capital Management</td>\n",
              "      <td>Greenwich, CT</td>\n",
              "      <td>United States of America</td>\n",
              "      <td>CAN</td>\n",
              "    </tr>\n",
              "    <tr>\n",
              "      <th>700</th>\n",
              "      <td>1999</td>\n",
              "      <td>Economics</td>\n",
              "      <td>The Sveriges Riksbank Prize in Economic Scienc...</td>\n",
              "      <td>\"for his analysis of monetary and fiscal polic...</td>\n",
              "      <td>1/1</td>\n",
              "      <td>Individual</td>\n",
              "      <td>Robert A. Mundell</td>\n",
              "      <td>1932-10-24</td>\n",
              "      <td>Kingston, ON</td>\n",
              "      <td>Canada</td>\n",
              "      <td>Canada</td>\n",
              "      <td>Male</td>\n",
              "      <td>Columbia University</td>\n",
              "      <td>New York, NY</td>\n",
              "      <td>United States of America</td>\n",
              "      <td>CAN</td>\n",
              "    </tr>\n",
              "    <tr>\n",
              "      <th>828</th>\n",
              "      <td>2009</td>\n",
              "      <td>Physics</td>\n",
              "      <td>The Nobel Prize in Physics 2009</td>\n",
              "      <td>\"for the invention of an imaging semiconductor...</td>\n",
              "      <td>1/4</td>\n",
              "      <td>Individual</td>\n",
              "      <td>Willard S. Boyle</td>\n",
              "      <td>1924-08-19</td>\n",
              "      <td>Amherst, NS</td>\n",
              "      <td>Canada</td>\n",
              "      <td>Canada</td>\n",
              "      <td>Male</td>\n",
              "      <td>Bell Laboratories</td>\n",
              "      <td>Murray Hill, NJ</td>\n",
              "      <td>United States of America</td>\n",
              "      <td>CAN</td>\n",
              "    </tr>\n",
              "    <tr>\n",
              "      <th>846</th>\n",
              "      <td>2011</td>\n",
              "      <td>Medicine</td>\n",
              "      <td>The Nobel Prize in Physiology or Medicine 2011</td>\n",
              "      <td>\"for his discovery of the dendritic cell and i...</td>\n",
              "      <td>1/2</td>\n",
              "      <td>Individual</td>\n",
              "      <td>Ralph M. Steinman</td>\n",
              "      <td>1943-01-14</td>\n",
              "      <td>Montreal</td>\n",
              "      <td>Canada</td>\n",
              "      <td>Canada</td>\n",
              "      <td>Male</td>\n",
              "      <td>Rockefeller University</td>\n",
              "      <td>New York, NY</td>\n",
              "      <td>United States of America</td>\n",
              "      <td>CAN</td>\n",
              "    </tr>\n",
              "    <tr>\n",
              "      <th>869</th>\n",
              "      <td>2013</td>\n",
              "      <td>Literature</td>\n",
              "      <td>The Nobel Prize in Literature 2013</td>\n",
              "      <td>\"master of the contemporary short story\"</td>\n",
              "      <td>1/1</td>\n",
              "      <td>Individual</td>\n",
              "      <td>Alice Munro</td>\n",
              "      <td>1931-07-10</td>\n",
              "      <td>Wingham</td>\n",
              "      <td>Canada</td>\n",
              "      <td>Canada</td>\n",
              "      <td>Female</td>\n",
              "      <td>NaN</td>\n",
              "      <td>NaN</td>\n",
              "      <td>NaN</td>\n",
              "      <td>CAN</td>\n",
              "    </tr>\n",
              "    <tr>\n",
              "      <th>898</th>\n",
              "      <td>2015</td>\n",
              "      <td>Physics</td>\n",
              "      <td>The Nobel Prize in Physics 2015</td>\n",
              "      <td>\"for the discovery of neutrino oscillations, w...</td>\n",
              "      <td>1/2</td>\n",
              "      <td>Individual</td>\n",
              "      <td>Arthur B. McDonald</td>\n",
              "      <td>1943-08-29</td>\n",
              "      <td>Sydney</td>\n",
              "      <td>Canada</td>\n",
              "      <td>Canada</td>\n",
              "      <td>Male</td>\n",
              "      <td>Queen's University</td>\n",
              "      <td>Kingston</td>\n",
              "      <td>Canada</td>\n",
              "      <td>CAN</td>\n",
              "    </tr>\n",
              "    <tr>\n",
              "      <th>934</th>\n",
              "      <td>2018</td>\n",
              "      <td>Physics</td>\n",
              "      <td>The Nobel Prize in Physics 2018</td>\n",
              "      <td>“for their method of generating high-intensity...</td>\n",
              "      <td>1/4</td>\n",
              "      <td>Individual</td>\n",
              "      <td>Donna Strickland</td>\n",
              "      <td>1959-05-27</td>\n",
              "      <td>Guelph</td>\n",
              "      <td>Canada</td>\n",
              "      <td>Canada</td>\n",
              "      <td>Female</td>\n",
              "      <td>University of Waterloo</td>\n",
              "      <td>Waterloo</td>\n",
              "      <td>Canada</td>\n",
              "      <td>CAN</td>\n",
              "    </tr>\n",
              "    <tr>\n",
              "      <th>948</th>\n",
              "      <td>2019</td>\n",
              "      <td>Physics</td>\n",
              "      <td>The Nobel Prize in Physics 2019</td>\n",
              "      <td>“for theoretical discoveries in physical cosmo...</td>\n",
              "      <td>1/2</td>\n",
              "      <td>Individual</td>\n",
              "      <td>James Peebles</td>\n",
              "      <td>1935-04-25</td>\n",
              "      <td>Winnipeg</td>\n",
              "      <td>Canada</td>\n",
              "      <td>Canada</td>\n",
              "      <td>Male</td>\n",
              "      <td>Princeton University</td>\n",
              "      <td>Princeton, NJ</td>\n",
              "      <td>United States of America</td>\n",
              "      <td>CAN</td>\n",
              "    </tr>\n",
              "  </tbody>\n",
              "</table>\n",
              "</div>"
            ],
            "text/plain": [
              "     year    category                                              prize  \\\n",
              "115  1923    Medicine     The Nobel Prize in Physiology or Medicine 1923   \n",
              "244  1949   Chemistry                  The Nobel Prize in Chemistry 1949   \n",
              "303  1957       Peace                         The Nobel Peace Prize 1957   \n",
              "373  1966    Medicine     The Nobel Prize in Physiology or Medicine 1966   \n",
              "465  1976  Literature                 The Nobel Prize in Literature 1976   \n",
              "520  1981    Medicine     The Nobel Prize in Physiology or Medicine 1981   \n",
              "536  1983   Chemistry                  The Nobel Prize in Chemistry 1983   \n",
              "592  1989   Chemistry                  The Nobel Prize in Chemistry 1989   \n",
              "612  1990     Physics                    The Nobel Prize in Physics 1990   \n",
              "620  1992   Chemistry                  The Nobel Prize in Chemistry 1992   \n",
              "648  1994     Physics                    The Nobel Prize in Physics 1994   \n",
              "666  1996   Economics  The Sveriges Riksbank Prize in Economic Scienc...   \n",
              "678  1997   Economics  The Sveriges Riksbank Prize in Economic Scienc...   \n",
              "700  1999   Economics  The Sveriges Riksbank Prize in Economic Scienc...   \n",
              "828  2009     Physics                    The Nobel Prize in Physics 2009   \n",
              "846  2011    Medicine     The Nobel Prize in Physiology or Medicine 2011   \n",
              "869  2013  Literature                 The Nobel Prize in Literature 2013   \n",
              "898  2015     Physics                    The Nobel Prize in Physics 2015   \n",
              "934  2018     Physics                    The Nobel Prize in Physics 2018   \n",
              "948  2019     Physics                    The Nobel Prize in Physics 2019   \n",
              "\n",
              "                                            motivation prize_share  \\\n",
              "115                     \"for the discovery of insulin\"         1/2   \n",
              "244  \"for his contributions in the field of chemica...         1/1   \n",
              "303                                                NaN         1/1   \n",
              "373  \"for his discoveries concerning hormonal treat...         1/2   \n",
              "465  \"for the human understanding and subtle analys...         1/1   \n",
              "520  \"for their discoveries concerning information ...         1/4   \n",
              "536  \"for his work on the mechanisms of electron tr...         1/1   \n",
              "592  \"for their discovery of catalytic properties o...         1/2   \n",
              "612  \"for their pioneering investigations concernin...         1/3   \n",
              "620  \"for his contributions to the theory of electr...         1/1   \n",
              "648  \"for pioneering contributions to the developme...         1/2   \n",
              "666  \"for their fundamental contributions to the ec...         1/2   \n",
              "678  \"for a new method to determine the value of de...         1/2   \n",
              "700  \"for his analysis of monetary and fiscal polic...         1/1   \n",
              "828  \"for the invention of an imaging semiconductor...         1/4   \n",
              "846  \"for his discovery of the dendritic cell and i...         1/2   \n",
              "869           \"master of the contemporary short story\"         1/1   \n",
              "898  \"for the discovery of neutrino oscillations, w...         1/2   \n",
              "934  “for their method of generating high-intensity...         1/4   \n",
              "948  “for theoretical discoveries in physical cosmo...         1/2   \n",
              "\n",
              "    laureate_type                full_name  birth_date             birth_city  \\\n",
              "115    Individual  Frederick Grant Banting  1891-11-14               Alliston   \n",
              "244    Individual  William Francis Giauque  1895-05-12          Niagara Falls   \n",
              "303    Individual    Lester Bowles Pearson  1897-04-23                Toronto   \n",
              "373    Individual  Charles Brenton Huggins  1901-09-22                Halifax   \n",
              "465    Individual              Saul Bellow  1915-06-10               Montreal   \n",
              "520    Individual           David H. Hubel  1926-02-27            Windsor, ON   \n",
              "536    Individual              Henry Taube  1915-11-30                Neudorf   \n",
              "592    Individual            Sidney Altman  1939-05-07               Montreal   \n",
              "612    Individual        Richard E. Taylor  1929-11-02  Medicine Hat, Alberta   \n",
              "620    Individual        Rudolph A. Marcus  1923-07-21               Montreal   \n",
              "648    Individual    Bertram N. Brockhouse  1918-07-15    Lethbridge, Alberta   \n",
              "666    Individual          William Vickrey  1914-06-21           Victoria, BC   \n",
              "678    Individual         Myron S. Scholes  1941-07-01            Timmins, ON   \n",
              "700    Individual        Robert A. Mundell  1932-10-24           Kingston, ON   \n",
              "828    Individual         Willard S. Boyle  1924-08-19            Amherst, NS   \n",
              "846    Individual        Ralph M. Steinman  1943-01-14               Montreal   \n",
              "869    Individual              Alice Munro  1931-07-10                Wingham   \n",
              "898    Individual       Arthur B. McDonald  1943-08-29                 Sydney   \n",
              "934    Individual         Donna Strickland  1959-05-27                 Guelph   \n",
              "948    Individual            James Peebles  1935-04-25               Winnipeg   \n",
              "\n",
              "    birth_country birth_country_current     sex  \\\n",
              "115        Canada                Canada    Male   \n",
              "244        Canada                Canada    Male   \n",
              "303        Canada                Canada    Male   \n",
              "373        Canada                Canada    Male   \n",
              "465        Canada                Canada    Male   \n",
              "520        Canada                Canada    Male   \n",
              "536        Canada                Canada    Male   \n",
              "592        Canada                Canada    Male   \n",
              "612        Canada                Canada    Male   \n",
              "620        Canada                Canada    Male   \n",
              "648        Canada                Canada    Male   \n",
              "666        Canada                Canada    Male   \n",
              "678        Canada                Canada    Male   \n",
              "700        Canada                Canada    Male   \n",
              "828        Canada                Canada    Male   \n",
              "846        Canada                Canada    Male   \n",
              "869        Canada                Canada  Female   \n",
              "898        Canada                Canada    Male   \n",
              "934        Canada                Canada  Female   \n",
              "948        Canada                Canada    Male   \n",
              "\n",
              "                                organization_name  organization_city  \\\n",
              "115                         University of Toronto            Toronto   \n",
              "244                      University of California       Berkeley, CA   \n",
              "303                                           NaN                NaN   \n",
              "373                         University of Chicago        Chicago, IL   \n",
              "465                                           NaN                NaN   \n",
              "520                        Harvard Medical School         Boston, MA   \n",
              "536                           Stanford University       Stanford, CA   \n",
              "592                               Yale University      New Haven, CT   \n",
              "612                           Stanford University       Stanford, CA   \n",
              "620  California Institute of Technology (Caltech)       Pasadena, CA   \n",
              "648                           McMaster University  Hamilton, Ontario   \n",
              "666                           Columbia University       New York, NY   \n",
              "678                  Long Term Capital Management      Greenwich, CT   \n",
              "700                           Columbia University       New York, NY   \n",
              "828                             Bell Laboratories    Murray Hill, NJ   \n",
              "846                        Rockefeller University       New York, NY   \n",
              "869                                           NaN                NaN   \n",
              "898                            Queen's University           Kingston   \n",
              "934                        University of Waterloo           Waterloo   \n",
              "948                          Princeton University      Princeton, NJ   \n",
              "\n",
              "         organization_country  ISO  \n",
              "115                    Canada  CAN  \n",
              "244  United States of America  CAN  \n",
              "303                       NaN  CAN  \n",
              "373  United States of America  CAN  \n",
              "465                       NaN  CAN  \n",
              "520  United States of America  CAN  \n",
              "536  United States of America  CAN  \n",
              "592  United States of America  CAN  \n",
              "612  United States of America  CAN  \n",
              "620  United States of America  CAN  \n",
              "648                    Canada  CAN  \n",
              "666  United States of America  CAN  \n",
              "678  United States of America  CAN  \n",
              "700  United States of America  CAN  \n",
              "828  United States of America  CAN  \n",
              "846  United States of America  CAN  \n",
              "869                       NaN  CAN  \n",
              "898                    Canada  CAN  \n",
              "934                    Canada  CAN  \n",
              "948  United States of America  CAN  "
            ]
          },
          "execution_count": 9,
          "metadata": {},
          "output_type": "execute_result"
        }
      ],
      "source": [
        "df_canada = df_data[df_data.birth_country == 'Canada']\n",
        "df_canada"
      ]
    },
    {
      "cell_type": "markdown",
      "metadata": {
        "id": "SjA1sZPPMH_Y"
      },
      "source": [
        "**Challange**: \n",
        "* Are there any duplicate values in the dataset?\n",
        "* Are there NaN values in the dataset?\n",
        "* Which columns tend to have NaN values?\n",
        "* How many NaN values are there per column? \n",
        "* Why do these columns have NaN values?  "
      ]
    },
    {
      "cell_type": "code",
      "execution_count": 11,
      "metadata": {},
      "outputs": [
        {
          "data": {
            "text/plain": [
              "np.True_"
            ]
          },
          "execution_count": 11,
          "metadata": {},
          "output_type": "execute_result"
        }
      ],
      "source": [
        "df_data.isna().values.any()"
      ]
    },
    {
      "cell_type": "markdown",
      "metadata": {
        "id": "q1EuEZV7o7Lb"
      },
      "source": [
        "### Check for Duplicates"
      ]
    },
    {
      "cell_type": "code",
      "execution_count": 12,
      "metadata": {
        "id": "v976ftCaFRFN"
      },
      "outputs": [
        {
          "data": {
            "text/plain": [
              "np.False_"
            ]
          },
          "execution_count": 12,
          "metadata": {},
          "output_type": "execute_result"
        }
      ],
      "source": [
        "df_data.duplicated().values.any()"
      ]
    },
    {
      "cell_type": "code",
      "execution_count": 13,
      "metadata": {
        "id": "gvpa0A0OFQ4z"
      },
      "outputs": [
        {
          "data": {
            "text/html": [
              "<div>\n",
              "<style scoped>\n",
              "    .dataframe tbody tr th:only-of-type {\n",
              "        vertical-align: middle;\n",
              "    }\n",
              "\n",
              "    .dataframe tbody tr th {\n",
              "        vertical-align: top;\n",
              "    }\n",
              "\n",
              "    .dataframe thead th {\n",
              "        text-align: right;\n",
              "    }\n",
              "</style>\n",
              "<table border=\"1\" class=\"dataframe\">\n",
              "  <thead>\n",
              "    <tr style=\"text-align: right;\">\n",
              "      <th></th>\n",
              "      <th>year</th>\n",
              "      <th>category</th>\n",
              "      <th>laureate_type</th>\n",
              "      <th>birth_date</th>\n",
              "      <th>full_name</th>\n",
              "      <th>organization_name</th>\n",
              "    </tr>\n",
              "  </thead>\n",
              "  <tbody>\n",
              "    <tr>\n",
              "      <th>24</th>\n",
              "      <td>1904</td>\n",
              "      <td>Peace</td>\n",
              "      <td>Organization</td>\n",
              "      <td>NaN</td>\n",
              "      <td>Institut de droit international (Institute of ...</td>\n",
              "      <td>NaN</td>\n",
              "    </tr>\n",
              "    <tr>\n",
              "      <th>60</th>\n",
              "      <td>1910</td>\n",
              "      <td>Peace</td>\n",
              "      <td>Organization</td>\n",
              "      <td>NaN</td>\n",
              "      <td>Bureau international permanent de la Paix (Per...</td>\n",
              "      <td>NaN</td>\n",
              "    </tr>\n",
              "    <tr>\n",
              "      <th>89</th>\n",
              "      <td>1917</td>\n",
              "      <td>Peace</td>\n",
              "      <td>Organization</td>\n",
              "      <td>NaN</td>\n",
              "      <td>Comité international de la Croix Rouge (Intern...</td>\n",
              "      <td>NaN</td>\n",
              "    </tr>\n",
              "    <tr>\n",
              "      <th>200</th>\n",
              "      <td>1938</td>\n",
              "      <td>Peace</td>\n",
              "      <td>Organization</td>\n",
              "      <td>NaN</td>\n",
              "      <td>Office international Nansen pour les Réfugiés ...</td>\n",
              "      <td>NaN</td>\n",
              "    </tr>\n",
              "    <tr>\n",
              "      <th>215</th>\n",
              "      <td>1944</td>\n",
              "      <td>Peace</td>\n",
              "      <td>Organization</td>\n",
              "      <td>NaN</td>\n",
              "      <td>Comité international de la Croix Rouge (Intern...</td>\n",
              "      <td>NaN</td>\n",
              "    </tr>\n",
              "    <tr>\n",
              "      <th>237</th>\n",
              "      <td>1947</td>\n",
              "      <td>Peace</td>\n",
              "      <td>Organization</td>\n",
              "      <td>NaN</td>\n",
              "      <td>American Friends Service Committee (The Quakers)</td>\n",
              "      <td>NaN</td>\n",
              "    </tr>\n",
              "    <tr>\n",
              "      <th>238</th>\n",
              "      <td>1947</td>\n",
              "      <td>Peace</td>\n",
              "      <td>Organization</td>\n",
              "      <td>NaN</td>\n",
              "      <td>Friends Service Council (The Quakers)</td>\n",
              "      <td>NaN</td>\n",
              "    </tr>\n",
              "    <tr>\n",
              "      <th>283</th>\n",
              "      <td>1954</td>\n",
              "      <td>Peace</td>\n",
              "      <td>Organization</td>\n",
              "      <td>NaN</td>\n",
              "      <td>Office of the United Nations High Commissioner...</td>\n",
              "      <td>NaN</td>\n",
              "    </tr>\n",
              "    <tr>\n",
              "      <th>348</th>\n",
              "      <td>1963</td>\n",
              "      <td>Peace</td>\n",
              "      <td>Organization</td>\n",
              "      <td>NaN</td>\n",
              "      <td>Comité international de la Croix Rouge (Intern...</td>\n",
              "      <td>NaN</td>\n",
              "    </tr>\n",
              "    <tr>\n",
              "      <th>349</th>\n",
              "      <td>1963</td>\n",
              "      <td>Peace</td>\n",
              "      <td>Organization</td>\n",
              "      <td>NaN</td>\n",
              "      <td>Ligue des Sociétés de la Croix-Rouge (League o...</td>\n",
              "      <td>NaN</td>\n",
              "    </tr>\n",
              "    <tr>\n",
              "      <th>366</th>\n",
              "      <td>1965</td>\n",
              "      <td>Peace</td>\n",
              "      <td>Organization</td>\n",
              "      <td>NaN</td>\n",
              "      <td>United Nations Children's Fund (UNICEF)</td>\n",
              "      <td>NaN</td>\n",
              "    </tr>\n",
              "    <tr>\n",
              "      <th>399</th>\n",
              "      <td>1969</td>\n",
              "      <td>Peace</td>\n",
              "      <td>Organization</td>\n",
              "      <td>NaN</td>\n",
              "      <td>International Labour Organization (I.L.O.)</td>\n",
              "      <td>NaN</td>\n",
              "    </tr>\n",
              "    <tr>\n",
              "      <th>479</th>\n",
              "      <td>1977</td>\n",
              "      <td>Peace</td>\n",
              "      <td>Organization</td>\n",
              "      <td>NaN</td>\n",
              "      <td>Amnesty International</td>\n",
              "      <td>NaN</td>\n",
              "    </tr>\n",
              "    <tr>\n",
              "      <th>523</th>\n",
              "      <td>1981</td>\n",
              "      <td>Peace</td>\n",
              "      <td>Organization</td>\n",
              "      <td>NaN</td>\n",
              "      <td>Office of the United Nations High Commissioner...</td>\n",
              "      <td>NaN</td>\n",
              "    </tr>\n",
              "    <tr>\n",
              "      <th>558</th>\n",
              "      <td>1985</td>\n",
              "      <td>Peace</td>\n",
              "      <td>Organization</td>\n",
              "      <td>NaN</td>\n",
              "      <td>International Physicians for the Prevention of...</td>\n",
              "      <td>NaN</td>\n",
              "    </tr>\n",
              "    <tr>\n",
              "      <th>588</th>\n",
              "      <td>1988</td>\n",
              "      <td>Peace</td>\n",
              "      <td>Organization</td>\n",
              "      <td>NaN</td>\n",
              "      <td>United Nations Peacekeeping Forces</td>\n",
              "      <td>NaN</td>\n",
              "    </tr>\n",
              "    <tr>\n",
              "      <th>659</th>\n",
              "      <td>1995</td>\n",
              "      <td>Peace</td>\n",
              "      <td>Organization</td>\n",
              "      <td>NaN</td>\n",
              "      <td>Pugwash Conferences on Science and World Affairs</td>\n",
              "      <td>NaN</td>\n",
              "    </tr>\n",
              "    <tr>\n",
              "      <th>682</th>\n",
              "      <td>1997</td>\n",
              "      <td>Peace</td>\n",
              "      <td>Organization</td>\n",
              "      <td>NaN</td>\n",
              "      <td>International Campaign to Ban Landmines (ICBL)</td>\n",
              "      <td>NaN</td>\n",
              "    </tr>\n",
              "    <tr>\n",
              "      <th>703</th>\n",
              "      <td>1999</td>\n",
              "      <td>Peace</td>\n",
              "      <td>Organization</td>\n",
              "      <td>NaN</td>\n",
              "      <td>Médecins Sans Frontières</td>\n",
              "      <td>NaN</td>\n",
              "    </tr>\n",
              "    <tr>\n",
              "      <th>730</th>\n",
              "      <td>2001</td>\n",
              "      <td>Peace</td>\n",
              "      <td>Organization</td>\n",
              "      <td>NaN</td>\n",
              "      <td>United Nations (U.N.)</td>\n",
              "      <td>NaN</td>\n",
              "    </tr>\n",
              "    <tr>\n",
              "      <th>778</th>\n",
              "      <td>2005</td>\n",
              "      <td>Peace</td>\n",
              "      <td>Organization</td>\n",
              "      <td>NaN</td>\n",
              "      <td>International Atomic Energy Agency (IAEA)</td>\n",
              "      <td>NaN</td>\n",
              "    </tr>\n",
              "    <tr>\n",
              "      <th>788</th>\n",
              "      <td>2006</td>\n",
              "      <td>Peace</td>\n",
              "      <td>Organization</td>\n",
              "      <td>NaN</td>\n",
              "      <td>Grameen Bank</td>\n",
              "      <td>NaN</td>\n",
              "    </tr>\n",
              "    <tr>\n",
              "      <th>801</th>\n",
              "      <td>2007</td>\n",
              "      <td>Peace</td>\n",
              "      <td>Organization</td>\n",
              "      <td>NaN</td>\n",
              "      <td>Intergovernmental Panel on Climate Change (IPCC)</td>\n",
              "      <td>NaN</td>\n",
              "    </tr>\n",
              "    <tr>\n",
              "      <th>860</th>\n",
              "      <td>2012</td>\n",
              "      <td>Peace</td>\n",
              "      <td>Organization</td>\n",
              "      <td>NaN</td>\n",
              "      <td>European Union (EU)</td>\n",
              "      <td>NaN</td>\n",
              "    </tr>\n",
              "    <tr>\n",
              "      <th>873</th>\n",
              "      <td>2013</td>\n",
              "      <td>Peace</td>\n",
              "      <td>Organization</td>\n",
              "      <td>NaN</td>\n",
              "      <td>Organisation for the Prohibition of Chemical W...</td>\n",
              "      <td>NaN</td>\n",
              "    </tr>\n",
              "    <tr>\n",
              "      <th>897</th>\n",
              "      <td>2015</td>\n",
              "      <td>Peace</td>\n",
              "      <td>Organization</td>\n",
              "      <td>NaN</td>\n",
              "      <td>National Dialogue Quartet</td>\n",
              "      <td>NaN</td>\n",
              "    </tr>\n",
              "    <tr>\n",
              "      <th>919</th>\n",
              "      <td>2017</td>\n",
              "      <td>Peace</td>\n",
              "      <td>Organization</td>\n",
              "      <td>NaN</td>\n",
              "      <td>International Campaign to Abolish Nuclear Weap...</td>\n",
              "      <td>NaN</td>\n",
              "    </tr>\n",
              "    <tr>\n",
              "      <th>958</th>\n",
              "      <td>2020</td>\n",
              "      <td>Peace</td>\n",
              "      <td>Organization</td>\n",
              "      <td>NaN</td>\n",
              "      <td>World Food Programme (WFP)</td>\n",
              "      <td>NaN</td>\n",
              "    </tr>\n",
              "  </tbody>\n",
              "</table>\n",
              "</div>"
            ],
            "text/plain": [
              "     year category laureate_type birth_date  \\\n",
              "24   1904    Peace  Organization        NaN   \n",
              "60   1910    Peace  Organization        NaN   \n",
              "89   1917    Peace  Organization        NaN   \n",
              "200  1938    Peace  Organization        NaN   \n",
              "215  1944    Peace  Organization        NaN   \n",
              "237  1947    Peace  Organization        NaN   \n",
              "238  1947    Peace  Organization        NaN   \n",
              "283  1954    Peace  Organization        NaN   \n",
              "348  1963    Peace  Organization        NaN   \n",
              "349  1963    Peace  Organization        NaN   \n",
              "366  1965    Peace  Organization        NaN   \n",
              "399  1969    Peace  Organization        NaN   \n",
              "479  1977    Peace  Organization        NaN   \n",
              "523  1981    Peace  Organization        NaN   \n",
              "558  1985    Peace  Organization        NaN   \n",
              "588  1988    Peace  Organization        NaN   \n",
              "659  1995    Peace  Organization        NaN   \n",
              "682  1997    Peace  Organization        NaN   \n",
              "703  1999    Peace  Organization        NaN   \n",
              "730  2001    Peace  Organization        NaN   \n",
              "778  2005    Peace  Organization        NaN   \n",
              "788  2006    Peace  Organization        NaN   \n",
              "801  2007    Peace  Organization        NaN   \n",
              "860  2012    Peace  Organization        NaN   \n",
              "873  2013    Peace  Organization        NaN   \n",
              "897  2015    Peace  Organization        NaN   \n",
              "919  2017    Peace  Organization        NaN   \n",
              "958  2020    Peace  Organization        NaN   \n",
              "\n",
              "                                             full_name organization_name  \n",
              "24   Institut de droit international (Institute of ...               NaN  \n",
              "60   Bureau international permanent de la Paix (Per...               NaN  \n",
              "89   Comité international de la Croix Rouge (Intern...               NaN  \n",
              "200  Office international Nansen pour les Réfugiés ...               NaN  \n",
              "215  Comité international de la Croix Rouge (Intern...               NaN  \n",
              "237   American Friends Service Committee (The Quakers)               NaN  \n",
              "238              Friends Service Council (The Quakers)               NaN  \n",
              "283  Office of the United Nations High Commissioner...               NaN  \n",
              "348  Comité international de la Croix Rouge (Intern...               NaN  \n",
              "349  Ligue des Sociétés de la Croix-Rouge (League o...               NaN  \n",
              "366            United Nations Children's Fund (UNICEF)               NaN  \n",
              "399         International Labour Organization (I.L.O.)               NaN  \n",
              "479                              Amnesty International               NaN  \n",
              "523  Office of the United Nations High Commissioner...               NaN  \n",
              "558  International Physicians for the Prevention of...               NaN  \n",
              "588                 United Nations Peacekeeping Forces               NaN  \n",
              "659   Pugwash Conferences on Science and World Affairs               NaN  \n",
              "682     International Campaign to Ban Landmines (ICBL)               NaN  \n",
              "703                           Médecins Sans Frontières               NaN  \n",
              "730                              United Nations (U.N.)               NaN  \n",
              "778          International Atomic Energy Agency (IAEA)               NaN  \n",
              "788                                       Grameen Bank               NaN  \n",
              "801   Intergovernmental Panel on Climate Change (IPCC)               NaN  \n",
              "860                                European Union (EU)               NaN  \n",
              "873  Organisation for the Prohibition of Chemical W...               NaN  \n",
              "897                          National Dialogue Quartet               NaN  \n",
              "919  International Campaign to Abolish Nuclear Weap...               NaN  \n",
              "958                         World Food Programme (WFP)               NaN  "
            ]
          },
          "execution_count": 13,
          "metadata": {},
          "output_type": "execute_result"
        }
      ],
      "source": [
        "col_subset = ['year','category', 'laureate_type',\n",
        "              'birth_date','full_name', 'organization_name']\n",
        "df_data.loc[df_data.birth_date.isna()][col_subset]"
      ]
    },
    {
      "cell_type": "markdown",
      "metadata": {
        "id": "w69xDtpzo7Ld"
      },
      "source": [
        "### Check for NaN Values"
      ]
    },
    {
      "cell_type": "code",
      "execution_count": 14,
      "metadata": {
        "id": "HgbI5sQNFStg"
      },
      "outputs": [
        {
          "data": {
            "text/html": [
              "<div>\n",
              "<style scoped>\n",
              "    .dataframe tbody tr th:only-of-type {\n",
              "        vertical-align: middle;\n",
              "    }\n",
              "\n",
              "    .dataframe tbody tr th {\n",
              "        vertical-align: top;\n",
              "    }\n",
              "\n",
              "    .dataframe thead th {\n",
              "        text-align: right;\n",
              "    }\n",
              "</style>\n",
              "<table border=\"1\" class=\"dataframe\">\n",
              "  <thead>\n",
              "    <tr style=\"text-align: right;\">\n",
              "      <th></th>\n",
              "      <th>year</th>\n",
              "      <th>category</th>\n",
              "      <th>laureate_type</th>\n",
              "      <th>full_name</th>\n",
              "      <th>organization_name</th>\n",
              "    </tr>\n",
              "  </thead>\n",
              "  <tbody>\n",
              "    <tr>\n",
              "      <th>1</th>\n",
              "      <td>1901</td>\n",
              "      <td>Literature</td>\n",
              "      <td>Individual</td>\n",
              "      <td>Sully Prudhomme</td>\n",
              "      <td>NaN</td>\n",
              "    </tr>\n",
              "    <tr>\n",
              "      <th>3</th>\n",
              "      <td>1901</td>\n",
              "      <td>Peace</td>\n",
              "      <td>Individual</td>\n",
              "      <td>Frédéric Passy</td>\n",
              "      <td>NaN</td>\n",
              "    </tr>\n",
              "    <tr>\n",
              "      <th>4</th>\n",
              "      <td>1901</td>\n",
              "      <td>Peace</td>\n",
              "      <td>Individual</td>\n",
              "      <td>Jean Henry Dunant</td>\n",
              "      <td>NaN</td>\n",
              "    </tr>\n",
              "    <tr>\n",
              "      <th>7</th>\n",
              "      <td>1902</td>\n",
              "      <td>Literature</td>\n",
              "      <td>Individual</td>\n",
              "      <td>Christian Matthias Theodor Mommsen</td>\n",
              "      <td>NaN</td>\n",
              "    </tr>\n",
              "    <tr>\n",
              "      <th>9</th>\n",
              "      <td>1902</td>\n",
              "      <td>Peace</td>\n",
              "      <td>Individual</td>\n",
              "      <td>Charles Albert Gobat</td>\n",
              "      <td>NaN</td>\n",
              "    </tr>\n",
              "    <tr>\n",
              "      <th>...</th>\n",
              "      <td>...</td>\n",
              "      <td>...</td>\n",
              "      <td>...</td>\n",
              "      <td>...</td>\n",
              "      <td>...</td>\n",
              "    </tr>\n",
              "    <tr>\n",
              "      <th>932</th>\n",
              "      <td>2018</td>\n",
              "      <td>Peace</td>\n",
              "      <td>Individual</td>\n",
              "      <td>Nadia Murad</td>\n",
              "      <td>NaN</td>\n",
              "    </tr>\n",
              "    <tr>\n",
              "      <th>942</th>\n",
              "      <td>2019</td>\n",
              "      <td>Literature</td>\n",
              "      <td>Individual</td>\n",
              "      <td>Peter Handke</td>\n",
              "      <td>NaN</td>\n",
              "    </tr>\n",
              "    <tr>\n",
              "      <th>946</th>\n",
              "      <td>2019</td>\n",
              "      <td>Peace</td>\n",
              "      <td>Individual</td>\n",
              "      <td>Abiy Ahmed Ali</td>\n",
              "      <td>NaN</td>\n",
              "    </tr>\n",
              "    <tr>\n",
              "      <th>954</th>\n",
              "      <td>2020</td>\n",
              "      <td>Literature</td>\n",
              "      <td>Individual</td>\n",
              "      <td>Louise Glück</td>\n",
              "      <td>NaN</td>\n",
              "    </tr>\n",
              "    <tr>\n",
              "      <th>958</th>\n",
              "      <td>2020</td>\n",
              "      <td>Peace</td>\n",
              "      <td>Organization</td>\n",
              "      <td>World Food Programme (WFP)</td>\n",
              "      <td>NaN</td>\n",
              "    </tr>\n",
              "  </tbody>\n",
              "</table>\n",
              "<p>255 rows × 5 columns</p>\n",
              "</div>"
            ],
            "text/plain": [
              "     year    category laureate_type                           full_name  \\\n",
              "1    1901  Literature    Individual                     Sully Prudhomme   \n",
              "3    1901       Peace    Individual                      Frédéric Passy   \n",
              "4    1901       Peace    Individual                   Jean Henry Dunant   \n",
              "7    1902  Literature    Individual  Christian Matthias Theodor Mommsen   \n",
              "9    1902       Peace    Individual                Charles Albert Gobat   \n",
              "..    ...         ...           ...                                 ...   \n",
              "932  2018       Peace    Individual                         Nadia Murad   \n",
              "942  2019  Literature    Individual                        Peter Handke   \n",
              "946  2019       Peace    Individual                      Abiy Ahmed Ali   \n",
              "954  2020  Literature    Individual                        Louise Glück   \n",
              "958  2020       Peace  Organization          World Food Programme (WFP)   \n",
              "\n",
              "    organization_name  \n",
              "1                 NaN  \n",
              "3                 NaN  \n",
              "4                 NaN  \n",
              "7                 NaN  \n",
              "9                 NaN  \n",
              "..                ...  \n",
              "932               NaN  \n",
              "942               NaN  \n",
              "946               NaN  \n",
              "954               NaN  \n",
              "958               NaN  \n",
              "\n",
              "[255 rows x 5 columns]"
            ]
          },
          "execution_count": 14,
          "metadata": {},
          "output_type": "execute_result"
        }
      ],
      "source": [
        "col_subset = ['year','category', 'laureate_type','full_name', 'organization_name']\n",
        "df_data.loc[df_data.organization_name.isna()][col_subset]"
      ]
    },
    {
      "cell_type": "code",
      "execution_count": null,
      "metadata": {
        "id": "O2zgruevFSyV"
      },
      "outputs": [],
      "source": []
    },
    {
      "cell_type": "code",
      "execution_count": null,
      "metadata": {
        "id": "aTU9T9xnFTQY"
      },
      "outputs": [],
      "source": []
    },
    {
      "cell_type": "code",
      "execution_count": null,
      "metadata": {
        "id": "0vxjq5N1FSwG"
      },
      "outputs": [],
      "source": []
    },
    {
      "cell_type": "code",
      "execution_count": null,
      "metadata": {
        "id": "ydO2iCjBFSq7"
      },
      "outputs": [],
      "source": []
    },
    {
      "cell_type": "markdown",
      "metadata": {
        "id": "ZyG18tKXo7Lj"
      },
      "source": [
        "### Type Conversions\n",
        "\n",
        "**Challenge**: \n",
        "* Convert the `birth_date` column to Pandas `Datetime` objects\n",
        "* Add a Column called `share_pct` which has the laureates' share as a percentage in the form of a floating-point number."
      ]
    },
    {
      "cell_type": "markdown",
      "metadata": {
        "id": "tTTFo-CXo7Lk"
      },
      "source": [
        "#### Convert Year and Birth Date to Datetime"
      ]
    },
    {
      "cell_type": "code",
      "execution_count": 15,
      "metadata": {
        "id": "Jas4fWv4Fa4_"
      },
      "outputs": [],
      "source": [
        "df_data.birth_date = pd.to_datetime(df_data.birth_date)"
      ]
    },
    {
      "cell_type": "markdown",
      "metadata": {
        "id": "i456Gr0io7Lm"
      },
      "source": [
        "#### Add a Column with the Prize Share as a Percentage"
      ]
    },
    {
      "cell_type": "code",
      "execution_count": 16,
      "metadata": {
        "id": "4BNug19-FdHP"
      },
      "outputs": [],
      "source": [
        "separated_values = df_data.prize_share.str.split('/', expand=True)\n",
        "numerator = pd.to_numeric(separated_values[0])\n",
        "denomenator = pd.to_numeric(separated_values[1])\n",
        "df_data['share_pct'] = numerator / denomenator"
      ]
    },
    {
      "cell_type": "code",
      "execution_count": 17,
      "metadata": {
        "id": "RKZXiaO1Fc9v"
      },
      "outputs": [
        {
          "data": {
            "text/html": [
              "<div>\n",
              "<style scoped>\n",
              "    .dataframe tbody tr th:only-of-type {\n",
              "        vertical-align: middle;\n",
              "    }\n",
              "\n",
              "    .dataframe tbody tr th {\n",
              "        vertical-align: top;\n",
              "    }\n",
              "\n",
              "    .dataframe thead th {\n",
              "        text-align: right;\n",
              "    }\n",
              "</style>\n",
              "<table border=\"1\" class=\"dataframe\">\n",
              "  <thead>\n",
              "    <tr style=\"text-align: right;\">\n",
              "      <th></th>\n",
              "      <th>year</th>\n",
              "      <th>category</th>\n",
              "      <th>prize</th>\n",
              "      <th>motivation</th>\n",
              "      <th>prize_share</th>\n",
              "      <th>laureate_type</th>\n",
              "      <th>full_name</th>\n",
              "      <th>birth_date</th>\n",
              "      <th>birth_city</th>\n",
              "      <th>birth_country</th>\n",
              "      <th>birth_country_current</th>\n",
              "      <th>sex</th>\n",
              "      <th>organization_name</th>\n",
              "      <th>organization_city</th>\n",
              "      <th>organization_country</th>\n",
              "      <th>ISO</th>\n",
              "      <th>share_pct</th>\n",
              "    </tr>\n",
              "  </thead>\n",
              "  <tbody>\n",
              "    <tr>\n",
              "      <th>0</th>\n",
              "      <td>1901</td>\n",
              "      <td>Chemistry</td>\n",
              "      <td>The Nobel Prize in Chemistry 1901</td>\n",
              "      <td>\"in recognition of the extraordinary services ...</td>\n",
              "      <td>1/1</td>\n",
              "      <td>Individual</td>\n",
              "      <td>Jacobus Henricus van 't Hoff</td>\n",
              "      <td>1852-08-30</td>\n",
              "      <td>Rotterdam</td>\n",
              "      <td>Netherlands</td>\n",
              "      <td>Netherlands</td>\n",
              "      <td>Male</td>\n",
              "      <td>Berlin University</td>\n",
              "      <td>Berlin</td>\n",
              "      <td>Germany</td>\n",
              "      <td>NLD</td>\n",
              "      <td>1.00</td>\n",
              "    </tr>\n",
              "    <tr>\n",
              "      <th>1</th>\n",
              "      <td>1901</td>\n",
              "      <td>Literature</td>\n",
              "      <td>The Nobel Prize in Literature 1901</td>\n",
              "      <td>\"in special recognition of his poetic composit...</td>\n",
              "      <td>1/1</td>\n",
              "      <td>Individual</td>\n",
              "      <td>Sully Prudhomme</td>\n",
              "      <td>1839-03-16</td>\n",
              "      <td>Paris</td>\n",
              "      <td>France</td>\n",
              "      <td>France</td>\n",
              "      <td>Male</td>\n",
              "      <td>NaN</td>\n",
              "      <td>NaN</td>\n",
              "      <td>NaN</td>\n",
              "      <td>FRA</td>\n",
              "      <td>1.00</td>\n",
              "    </tr>\n",
              "    <tr>\n",
              "      <th>2</th>\n",
              "      <td>1901</td>\n",
              "      <td>Medicine</td>\n",
              "      <td>The Nobel Prize in Physiology or Medicine 1901</td>\n",
              "      <td>\"for his work on serum therapy, especially its...</td>\n",
              "      <td>1/1</td>\n",
              "      <td>Individual</td>\n",
              "      <td>Emil Adolf von Behring</td>\n",
              "      <td>1854-03-15</td>\n",
              "      <td>Hansdorf (Lawice)</td>\n",
              "      <td>Prussia (Poland)</td>\n",
              "      <td>Poland</td>\n",
              "      <td>Male</td>\n",
              "      <td>Marburg University</td>\n",
              "      <td>Marburg</td>\n",
              "      <td>Germany</td>\n",
              "      <td>POL</td>\n",
              "      <td>1.00</td>\n",
              "    </tr>\n",
              "    <tr>\n",
              "      <th>3</th>\n",
              "      <td>1901</td>\n",
              "      <td>Peace</td>\n",
              "      <td>The Nobel Peace Prize 1901</td>\n",
              "      <td>NaN</td>\n",
              "      <td>1/2</td>\n",
              "      <td>Individual</td>\n",
              "      <td>Frédéric Passy</td>\n",
              "      <td>1822-05-20</td>\n",
              "      <td>Paris</td>\n",
              "      <td>France</td>\n",
              "      <td>France</td>\n",
              "      <td>Male</td>\n",
              "      <td>NaN</td>\n",
              "      <td>NaN</td>\n",
              "      <td>NaN</td>\n",
              "      <td>FRA</td>\n",
              "      <td>0.50</td>\n",
              "    </tr>\n",
              "    <tr>\n",
              "      <th>4</th>\n",
              "      <td>1901</td>\n",
              "      <td>Peace</td>\n",
              "      <td>The Nobel Peace Prize 1901</td>\n",
              "      <td>NaN</td>\n",
              "      <td>1/2</td>\n",
              "      <td>Individual</td>\n",
              "      <td>Jean Henry Dunant</td>\n",
              "      <td>1828-05-08</td>\n",
              "      <td>Geneva</td>\n",
              "      <td>Switzerland</td>\n",
              "      <td>Switzerland</td>\n",
              "      <td>Male</td>\n",
              "      <td>NaN</td>\n",
              "      <td>NaN</td>\n",
              "      <td>NaN</td>\n",
              "      <td>CHE</td>\n",
              "      <td>0.50</td>\n",
              "    </tr>\n",
              "  </tbody>\n",
              "</table>\n",
              "</div>"
            ],
            "text/plain": [
              "   year    category                                           prize  \\\n",
              "0  1901   Chemistry               The Nobel Prize in Chemistry 1901   \n",
              "1  1901  Literature              The Nobel Prize in Literature 1901   \n",
              "2  1901    Medicine  The Nobel Prize in Physiology or Medicine 1901   \n",
              "3  1901       Peace                      The Nobel Peace Prize 1901   \n",
              "4  1901       Peace                      The Nobel Peace Prize 1901   \n",
              "\n",
              "                                          motivation prize_share  \\\n",
              "0  \"in recognition of the extraordinary services ...         1/1   \n",
              "1  \"in special recognition of his poetic composit...         1/1   \n",
              "2  \"for his work on serum therapy, especially its...         1/1   \n",
              "3                                                NaN         1/2   \n",
              "4                                                NaN         1/2   \n",
              "\n",
              "  laureate_type                     full_name birth_date         birth_city  \\\n",
              "0    Individual  Jacobus Henricus van 't Hoff 1852-08-30          Rotterdam   \n",
              "1    Individual               Sully Prudhomme 1839-03-16              Paris   \n",
              "2    Individual        Emil Adolf von Behring 1854-03-15  Hansdorf (Lawice)   \n",
              "3    Individual                Frédéric Passy 1822-05-20              Paris   \n",
              "4    Individual             Jean Henry Dunant 1828-05-08             Geneva   \n",
              "\n",
              "      birth_country birth_country_current   sex   organization_name  \\\n",
              "0       Netherlands           Netherlands  Male   Berlin University   \n",
              "1            France                France  Male                 NaN   \n",
              "2  Prussia (Poland)                Poland  Male  Marburg University   \n",
              "3            France                France  Male                 NaN   \n",
              "4       Switzerland           Switzerland  Male                 NaN   \n",
              "\n",
              "  organization_city organization_country  ISO  share_pct  \n",
              "0            Berlin              Germany  NLD       1.00  \n",
              "1               NaN                  NaN  FRA       1.00  \n",
              "2           Marburg              Germany  POL       1.00  \n",
              "3               NaN                  NaN  FRA       0.50  \n",
              "4               NaN                  NaN  CHE       0.50  "
            ]
          },
          "execution_count": 17,
          "metadata": {},
          "output_type": "execute_result"
        }
      ],
      "source": [
        "df_data.head()"
      ]
    },
    {
      "cell_type": "markdown",
      "metadata": {
        "id": "-x571TLao7Lq"
      },
      "source": [
        "# Plotly Donut Chart: Percentage of Male vs. Female Laureates"
      ]
    },
    {
      "cell_type": "markdown",
      "metadata": {
        "id": "Q5jBv1lUo7Lq"
      },
      "source": [
        "**Challenge**: Create a [donut chart using plotly](https://plotly.com/python/pie-charts/) which shows how many prizes went to men compared to how many prizes went to women. What percentage of all the prizes went to women?"
      ]
    },
    {
      "cell_type": "code",
      "execution_count": 23,
      "metadata": {
        "id": "wxTmkQd-Ff3Q"
      },
      "outputs": [
        {
          "data": {
            "application/vnd.plotly.v1+json": {
              "config": {
                "plotlyServerURL": "https://plot.ly"
              },
              "data": [
                {
                  "domain": {
                    "x": [
                      0,
                      1
                    ],
                    "y": [
                      0,
                      1
                    ]
                  },
                  "hole": 0.5,
                  "hovertemplate": "label=%{label}<br>value=%{value}<extra></extra>",
                  "labels": [
                    "Male",
                    "Female"
                  ],
                  "legendgroup": "",
                  "name": "",
                  "showlegend": true,
                  "textfont": {
                    "size": 15
                  },
                  "textinfo": "percent",
                  "textposition": "inside",
                  "type": "pie",
                  "values": {
                    "bdata": "bAM6AA==",
                    "dtype": "i2"
                  }
                }
              ],
              "layout": {
                "legend": {
                  "tracegroupgap": 0
                },
                "template": {
                  "data": {
                    "bar": [
                      {
                        "error_x": {
                          "color": "#2a3f5f"
                        },
                        "error_y": {
                          "color": "#2a3f5f"
                        },
                        "marker": {
                          "line": {
                            "color": "#E5ECF6",
                            "width": 0.5
                          },
                          "pattern": {
                            "fillmode": "overlay",
                            "size": 10,
                            "solidity": 0.2
                          }
                        },
                        "type": "bar"
                      }
                    ],
                    "barpolar": [
                      {
                        "marker": {
                          "line": {
                            "color": "#E5ECF6",
                            "width": 0.5
                          },
                          "pattern": {
                            "fillmode": "overlay",
                            "size": 10,
                            "solidity": 0.2
                          }
                        },
                        "type": "barpolar"
                      }
                    ],
                    "carpet": [
                      {
                        "aaxis": {
                          "endlinecolor": "#2a3f5f",
                          "gridcolor": "white",
                          "linecolor": "white",
                          "minorgridcolor": "white",
                          "startlinecolor": "#2a3f5f"
                        },
                        "baxis": {
                          "endlinecolor": "#2a3f5f",
                          "gridcolor": "white",
                          "linecolor": "white",
                          "minorgridcolor": "white",
                          "startlinecolor": "#2a3f5f"
                        },
                        "type": "carpet"
                      }
                    ],
                    "choropleth": [
                      {
                        "colorbar": {
                          "outlinewidth": 0,
                          "ticks": ""
                        },
                        "type": "choropleth"
                      }
                    ],
                    "contour": [
                      {
                        "colorbar": {
                          "outlinewidth": 0,
                          "ticks": ""
                        },
                        "colorscale": [
                          [
                            0,
                            "#0d0887"
                          ],
                          [
                            0.1111111111111111,
                            "#46039f"
                          ],
                          [
                            0.2222222222222222,
                            "#7201a8"
                          ],
                          [
                            0.3333333333333333,
                            "#9c179e"
                          ],
                          [
                            0.4444444444444444,
                            "#bd3786"
                          ],
                          [
                            0.5555555555555556,
                            "#d8576b"
                          ],
                          [
                            0.6666666666666666,
                            "#ed7953"
                          ],
                          [
                            0.7777777777777778,
                            "#fb9f3a"
                          ],
                          [
                            0.8888888888888888,
                            "#fdca26"
                          ],
                          [
                            1,
                            "#f0f921"
                          ]
                        ],
                        "type": "contour"
                      }
                    ],
                    "contourcarpet": [
                      {
                        "colorbar": {
                          "outlinewidth": 0,
                          "ticks": ""
                        },
                        "type": "contourcarpet"
                      }
                    ],
                    "heatmap": [
                      {
                        "colorbar": {
                          "outlinewidth": 0,
                          "ticks": ""
                        },
                        "colorscale": [
                          [
                            0,
                            "#0d0887"
                          ],
                          [
                            0.1111111111111111,
                            "#46039f"
                          ],
                          [
                            0.2222222222222222,
                            "#7201a8"
                          ],
                          [
                            0.3333333333333333,
                            "#9c179e"
                          ],
                          [
                            0.4444444444444444,
                            "#bd3786"
                          ],
                          [
                            0.5555555555555556,
                            "#d8576b"
                          ],
                          [
                            0.6666666666666666,
                            "#ed7953"
                          ],
                          [
                            0.7777777777777778,
                            "#fb9f3a"
                          ],
                          [
                            0.8888888888888888,
                            "#fdca26"
                          ],
                          [
                            1,
                            "#f0f921"
                          ]
                        ],
                        "type": "heatmap"
                      }
                    ],
                    "histogram": [
                      {
                        "marker": {
                          "pattern": {
                            "fillmode": "overlay",
                            "size": 10,
                            "solidity": 0.2
                          }
                        },
                        "type": "histogram"
                      }
                    ],
                    "histogram2d": [
                      {
                        "colorbar": {
                          "outlinewidth": 0,
                          "ticks": ""
                        },
                        "colorscale": [
                          [
                            0,
                            "#0d0887"
                          ],
                          [
                            0.1111111111111111,
                            "#46039f"
                          ],
                          [
                            0.2222222222222222,
                            "#7201a8"
                          ],
                          [
                            0.3333333333333333,
                            "#9c179e"
                          ],
                          [
                            0.4444444444444444,
                            "#bd3786"
                          ],
                          [
                            0.5555555555555556,
                            "#d8576b"
                          ],
                          [
                            0.6666666666666666,
                            "#ed7953"
                          ],
                          [
                            0.7777777777777778,
                            "#fb9f3a"
                          ],
                          [
                            0.8888888888888888,
                            "#fdca26"
                          ],
                          [
                            1,
                            "#f0f921"
                          ]
                        ],
                        "type": "histogram2d"
                      }
                    ],
                    "histogram2dcontour": [
                      {
                        "colorbar": {
                          "outlinewidth": 0,
                          "ticks": ""
                        },
                        "colorscale": [
                          [
                            0,
                            "#0d0887"
                          ],
                          [
                            0.1111111111111111,
                            "#46039f"
                          ],
                          [
                            0.2222222222222222,
                            "#7201a8"
                          ],
                          [
                            0.3333333333333333,
                            "#9c179e"
                          ],
                          [
                            0.4444444444444444,
                            "#bd3786"
                          ],
                          [
                            0.5555555555555556,
                            "#d8576b"
                          ],
                          [
                            0.6666666666666666,
                            "#ed7953"
                          ],
                          [
                            0.7777777777777778,
                            "#fb9f3a"
                          ],
                          [
                            0.8888888888888888,
                            "#fdca26"
                          ],
                          [
                            1,
                            "#f0f921"
                          ]
                        ],
                        "type": "histogram2dcontour"
                      }
                    ],
                    "mesh3d": [
                      {
                        "colorbar": {
                          "outlinewidth": 0,
                          "ticks": ""
                        },
                        "type": "mesh3d"
                      }
                    ],
                    "parcoords": [
                      {
                        "line": {
                          "colorbar": {
                            "outlinewidth": 0,
                            "ticks": ""
                          }
                        },
                        "type": "parcoords"
                      }
                    ],
                    "pie": [
                      {
                        "automargin": true,
                        "type": "pie"
                      }
                    ],
                    "scatter": [
                      {
                        "fillpattern": {
                          "fillmode": "overlay",
                          "size": 10,
                          "solidity": 0.2
                        },
                        "type": "scatter"
                      }
                    ],
                    "scatter3d": [
                      {
                        "line": {
                          "colorbar": {
                            "outlinewidth": 0,
                            "ticks": ""
                          }
                        },
                        "marker": {
                          "colorbar": {
                            "outlinewidth": 0,
                            "ticks": ""
                          }
                        },
                        "type": "scatter3d"
                      }
                    ],
                    "scattercarpet": [
                      {
                        "marker": {
                          "colorbar": {
                            "outlinewidth": 0,
                            "ticks": ""
                          }
                        },
                        "type": "scattercarpet"
                      }
                    ],
                    "scattergeo": [
                      {
                        "marker": {
                          "colorbar": {
                            "outlinewidth": 0,
                            "ticks": ""
                          }
                        },
                        "type": "scattergeo"
                      }
                    ],
                    "scattergl": [
                      {
                        "marker": {
                          "colorbar": {
                            "outlinewidth": 0,
                            "ticks": ""
                          }
                        },
                        "type": "scattergl"
                      }
                    ],
                    "scattermap": [
                      {
                        "marker": {
                          "colorbar": {
                            "outlinewidth": 0,
                            "ticks": ""
                          }
                        },
                        "type": "scattermap"
                      }
                    ],
                    "scattermapbox": [
                      {
                        "marker": {
                          "colorbar": {
                            "outlinewidth": 0,
                            "ticks": ""
                          }
                        },
                        "type": "scattermapbox"
                      }
                    ],
                    "scatterpolar": [
                      {
                        "marker": {
                          "colorbar": {
                            "outlinewidth": 0,
                            "ticks": ""
                          }
                        },
                        "type": "scatterpolar"
                      }
                    ],
                    "scatterpolargl": [
                      {
                        "marker": {
                          "colorbar": {
                            "outlinewidth": 0,
                            "ticks": ""
                          }
                        },
                        "type": "scatterpolargl"
                      }
                    ],
                    "scatterternary": [
                      {
                        "marker": {
                          "colorbar": {
                            "outlinewidth": 0,
                            "ticks": ""
                          }
                        },
                        "type": "scatterternary"
                      }
                    ],
                    "surface": [
                      {
                        "colorbar": {
                          "outlinewidth": 0,
                          "ticks": ""
                        },
                        "colorscale": [
                          [
                            0,
                            "#0d0887"
                          ],
                          [
                            0.1111111111111111,
                            "#46039f"
                          ],
                          [
                            0.2222222222222222,
                            "#7201a8"
                          ],
                          [
                            0.3333333333333333,
                            "#9c179e"
                          ],
                          [
                            0.4444444444444444,
                            "#bd3786"
                          ],
                          [
                            0.5555555555555556,
                            "#d8576b"
                          ],
                          [
                            0.6666666666666666,
                            "#ed7953"
                          ],
                          [
                            0.7777777777777778,
                            "#fb9f3a"
                          ],
                          [
                            0.8888888888888888,
                            "#fdca26"
                          ],
                          [
                            1,
                            "#f0f921"
                          ]
                        ],
                        "type": "surface"
                      }
                    ],
                    "table": [
                      {
                        "cells": {
                          "fill": {
                            "color": "#EBF0F8"
                          },
                          "line": {
                            "color": "white"
                          }
                        },
                        "header": {
                          "fill": {
                            "color": "#C8D4E3"
                          },
                          "line": {
                            "color": "white"
                          }
                        },
                        "type": "table"
                      }
                    ]
                  },
                  "layout": {
                    "annotationdefaults": {
                      "arrowcolor": "#2a3f5f",
                      "arrowhead": 0,
                      "arrowwidth": 1
                    },
                    "autotypenumbers": "strict",
                    "coloraxis": {
                      "colorbar": {
                        "outlinewidth": 0,
                        "ticks": ""
                      }
                    },
                    "colorscale": {
                      "diverging": [
                        [
                          0,
                          "#8e0152"
                        ],
                        [
                          0.1,
                          "#c51b7d"
                        ],
                        [
                          0.2,
                          "#de77ae"
                        ],
                        [
                          0.3,
                          "#f1b6da"
                        ],
                        [
                          0.4,
                          "#fde0ef"
                        ],
                        [
                          0.5,
                          "#f7f7f7"
                        ],
                        [
                          0.6,
                          "#e6f5d0"
                        ],
                        [
                          0.7,
                          "#b8e186"
                        ],
                        [
                          0.8,
                          "#7fbc41"
                        ],
                        [
                          0.9,
                          "#4d9221"
                        ],
                        [
                          1,
                          "#276419"
                        ]
                      ],
                      "sequential": [
                        [
                          0,
                          "#0d0887"
                        ],
                        [
                          0.1111111111111111,
                          "#46039f"
                        ],
                        [
                          0.2222222222222222,
                          "#7201a8"
                        ],
                        [
                          0.3333333333333333,
                          "#9c179e"
                        ],
                        [
                          0.4444444444444444,
                          "#bd3786"
                        ],
                        [
                          0.5555555555555556,
                          "#d8576b"
                        ],
                        [
                          0.6666666666666666,
                          "#ed7953"
                        ],
                        [
                          0.7777777777777778,
                          "#fb9f3a"
                        ],
                        [
                          0.8888888888888888,
                          "#fdca26"
                        ],
                        [
                          1,
                          "#f0f921"
                        ]
                      ],
                      "sequentialminus": [
                        [
                          0,
                          "#0d0887"
                        ],
                        [
                          0.1111111111111111,
                          "#46039f"
                        ],
                        [
                          0.2222222222222222,
                          "#7201a8"
                        ],
                        [
                          0.3333333333333333,
                          "#9c179e"
                        ],
                        [
                          0.4444444444444444,
                          "#bd3786"
                        ],
                        [
                          0.5555555555555556,
                          "#d8576b"
                        ],
                        [
                          0.6666666666666666,
                          "#ed7953"
                        ],
                        [
                          0.7777777777777778,
                          "#fb9f3a"
                        ],
                        [
                          0.8888888888888888,
                          "#fdca26"
                        ],
                        [
                          1,
                          "#f0f921"
                        ]
                      ]
                    },
                    "colorway": [
                      "#636efa",
                      "#EF553B",
                      "#00cc96",
                      "#ab63fa",
                      "#FFA15A",
                      "#19d3f3",
                      "#FF6692",
                      "#B6E880",
                      "#FF97FF",
                      "#FECB52"
                    ],
                    "font": {
                      "color": "#2a3f5f"
                    },
                    "geo": {
                      "bgcolor": "white",
                      "lakecolor": "white",
                      "landcolor": "#E5ECF6",
                      "showlakes": true,
                      "showland": true,
                      "subunitcolor": "white"
                    },
                    "hoverlabel": {
                      "align": "left"
                    },
                    "hovermode": "closest",
                    "mapbox": {
                      "style": "light"
                    },
                    "paper_bgcolor": "white",
                    "plot_bgcolor": "#E5ECF6",
                    "polar": {
                      "angularaxis": {
                        "gridcolor": "white",
                        "linecolor": "white",
                        "ticks": ""
                      },
                      "bgcolor": "#E5ECF6",
                      "radialaxis": {
                        "gridcolor": "white",
                        "linecolor": "white",
                        "ticks": ""
                      }
                    },
                    "scene": {
                      "xaxis": {
                        "backgroundcolor": "#E5ECF6",
                        "gridcolor": "white",
                        "gridwidth": 2,
                        "linecolor": "white",
                        "showbackground": true,
                        "ticks": "",
                        "zerolinecolor": "white"
                      },
                      "yaxis": {
                        "backgroundcolor": "#E5ECF6",
                        "gridcolor": "white",
                        "gridwidth": 2,
                        "linecolor": "white",
                        "showbackground": true,
                        "ticks": "",
                        "zerolinecolor": "white"
                      },
                      "zaxis": {
                        "backgroundcolor": "#E5ECF6",
                        "gridcolor": "white",
                        "gridwidth": 2,
                        "linecolor": "white",
                        "showbackground": true,
                        "ticks": "",
                        "zerolinecolor": "white"
                      }
                    },
                    "shapedefaults": {
                      "line": {
                        "color": "#2a3f5f"
                      }
                    },
                    "ternary": {
                      "aaxis": {
                        "gridcolor": "white",
                        "linecolor": "white",
                        "ticks": ""
                      },
                      "baxis": {
                        "gridcolor": "white",
                        "linecolor": "white",
                        "ticks": ""
                      },
                      "bgcolor": "#E5ECF6",
                      "caxis": {
                        "gridcolor": "white",
                        "linecolor": "white",
                        "ticks": ""
                      }
                    },
                    "title": {
                      "x": 0.05
                    },
                    "xaxis": {
                      "automargin": true,
                      "gridcolor": "white",
                      "linecolor": "white",
                      "ticks": "",
                      "title": {
                        "standoff": 15
                      },
                      "zerolinecolor": "white",
                      "zerolinewidth": 2
                    },
                    "yaxis": {
                      "automargin": true,
                      "gridcolor": "white",
                      "linecolor": "white",
                      "ticks": "",
                      "title": {
                        "standoff": 15
                      },
                      "zerolinecolor": "white",
                      "zerolinewidth": 2
                    }
                  }
                },
                "title": {
                  "text": "Male vs Female"
                }
              }
            }
          },
          "metadata": {},
          "output_type": "display_data"
        }
      ],
      "source": [
        "bio = df_data.sex.value_counts()\n",
        "fig = px.pie(labels=bio.index, values=bio.values,title='Male vs Female', names=bio.index,hole=0.5)\n",
        "fig.update_traces(textposition='inside', textfont_size=15, textinfo='percent')\n",
        "fig.show()"
      ]
    },
    {
      "cell_type": "code",
      "execution_count": null,
      "metadata": {
        "id": "qVJDd4uhFgGk"
      },
      "outputs": [],
      "source": []
    },
    {
      "cell_type": "markdown",
      "metadata": {
        "dc": {
          "key": "38"
        },
        "id": "dmdB0tCko7Lu",
        "run_control": {
          "frozen": true
        },
        "tags": [
          "context"
        ]
      },
      "source": [
        "# Who were the first 3 Women to Win the Nobel Prize?\n",
        "\n",
        "**Challenge**: \n",
        "* What are the names of the first 3 female Nobel laureates? \n",
        "* What did the win the prize for? \n",
        "* What do you see in their `birth_country`? Were they part of an organisation?"
      ]
    },
    {
      "cell_type": "code",
      "execution_count": 24,
      "metadata": {
        "id": "nk5h-XFcFiJp"
      },
      "outputs": [],
      "source": [
        "df_women = df_data[df_data.sex == 'Female']"
      ]
    },
    {
      "cell_type": "code",
      "execution_count": 25,
      "metadata": {
        "id": "fqBSGeNcFiBM"
      },
      "outputs": [
        {
          "data": {
            "text/html": [
              "<div>\n",
              "<style scoped>\n",
              "    .dataframe tbody tr th:only-of-type {\n",
              "        vertical-align: middle;\n",
              "    }\n",
              "\n",
              "    .dataframe tbody tr th {\n",
              "        vertical-align: top;\n",
              "    }\n",
              "\n",
              "    .dataframe thead th {\n",
              "        text-align: right;\n",
              "    }\n",
              "</style>\n",
              "<table border=\"1\" class=\"dataframe\">\n",
              "  <thead>\n",
              "    <tr style=\"text-align: right;\">\n",
              "      <th></th>\n",
              "      <th>year</th>\n",
              "      <th>category</th>\n",
              "      <th>prize</th>\n",
              "      <th>motivation</th>\n",
              "      <th>prize_share</th>\n",
              "      <th>laureate_type</th>\n",
              "      <th>full_name</th>\n",
              "      <th>birth_date</th>\n",
              "      <th>birth_city</th>\n",
              "      <th>birth_country</th>\n",
              "      <th>birth_country_current</th>\n",
              "      <th>sex</th>\n",
              "      <th>organization_name</th>\n",
              "      <th>organization_city</th>\n",
              "      <th>organization_country</th>\n",
              "      <th>ISO</th>\n",
              "      <th>share_pct</th>\n",
              "    </tr>\n",
              "  </thead>\n",
              "  <tbody>\n",
              "    <tr>\n",
              "      <th>18</th>\n",
              "      <td>1903</td>\n",
              "      <td>Physics</td>\n",
              "      <td>The Nobel Prize in Physics 1903</td>\n",
              "      <td>\"in recognition of the extraordinary services ...</td>\n",
              "      <td>1/4</td>\n",
              "      <td>Individual</td>\n",
              "      <td>Marie Curie, née Sklodowska</td>\n",
              "      <td>1867-11-07</td>\n",
              "      <td>Warsaw</td>\n",
              "      <td>Russian Empire (Poland)</td>\n",
              "      <td>Poland</td>\n",
              "      <td>Female</td>\n",
              "      <td>NaN</td>\n",
              "      <td>NaN</td>\n",
              "      <td>NaN</td>\n",
              "      <td>POL</td>\n",
              "      <td>0.25</td>\n",
              "    </tr>\n",
              "    <tr>\n",
              "      <th>29</th>\n",
              "      <td>1905</td>\n",
              "      <td>Peace</td>\n",
              "      <td>The Nobel Peace Prize 1905</td>\n",
              "      <td>NaN</td>\n",
              "      <td>1/1</td>\n",
              "      <td>Individual</td>\n",
              "      <td>Baroness Bertha Sophie Felicita von Suttner, n...</td>\n",
              "      <td>1843-06-09</td>\n",
              "      <td>Prague</td>\n",
              "      <td>Austrian Empire (Czech Republic)</td>\n",
              "      <td>Czech Republic</td>\n",
              "      <td>Female</td>\n",
              "      <td>NaN</td>\n",
              "      <td>NaN</td>\n",
              "      <td>NaN</td>\n",
              "      <td>CZE</td>\n",
              "      <td>1.00</td>\n",
              "    </tr>\n",
              "    <tr>\n",
              "      <th>51</th>\n",
              "      <td>1909</td>\n",
              "      <td>Literature</td>\n",
              "      <td>The Nobel Prize in Literature 1909</td>\n",
              "      <td>\"in appreciation of the lofty idealism, vivid ...</td>\n",
              "      <td>1/1</td>\n",
              "      <td>Individual</td>\n",
              "      <td>Selma Ottilia Lovisa Lagerlöf</td>\n",
              "      <td>1858-11-20</td>\n",
              "      <td>Mårbacka</td>\n",
              "      <td>Sweden</td>\n",
              "      <td>Sweden</td>\n",
              "      <td>Female</td>\n",
              "      <td>NaN</td>\n",
              "      <td>NaN</td>\n",
              "      <td>NaN</td>\n",
              "      <td>SWE</td>\n",
              "      <td>1.00</td>\n",
              "    </tr>\n",
              "    <tr>\n",
              "      <th>62</th>\n",
              "      <td>1911</td>\n",
              "      <td>Chemistry</td>\n",
              "      <td>The Nobel Prize in Chemistry 1911</td>\n",
              "      <td>\"in recognition of her services to the advance...</td>\n",
              "      <td>1/1</td>\n",
              "      <td>Individual</td>\n",
              "      <td>Marie Curie, née Sklodowska</td>\n",
              "      <td>1867-11-07</td>\n",
              "      <td>Warsaw</td>\n",
              "      <td>Russian Empire (Poland)</td>\n",
              "      <td>Poland</td>\n",
              "      <td>Female</td>\n",
              "      <td>Sorbonne University</td>\n",
              "      <td>Paris</td>\n",
              "      <td>France</td>\n",
              "      <td>POL</td>\n",
              "      <td>1.00</td>\n",
              "    </tr>\n",
              "    <tr>\n",
              "      <th>128</th>\n",
              "      <td>1926</td>\n",
              "      <td>Literature</td>\n",
              "      <td>The Nobel Prize in Literature 1926</td>\n",
              "      <td>\"for her idealistically inspired writings whic...</td>\n",
              "      <td>1/1</td>\n",
              "      <td>Individual</td>\n",
              "      <td>Grazia Deledda</td>\n",
              "      <td>1871-09-27</td>\n",
              "      <td>Nuoro, Sardinia</td>\n",
              "      <td>Italy</td>\n",
              "      <td>Italy</td>\n",
              "      <td>Female</td>\n",
              "      <td>NaN</td>\n",
              "      <td>NaN</td>\n",
              "      <td>NaN</td>\n",
              "      <td>ITA</td>\n",
              "      <td>1.00</td>\n",
              "    </tr>\n",
              "  </tbody>\n",
              "</table>\n",
              "</div>"
            ],
            "text/plain": [
              "     year    category                               prize  \\\n",
              "18   1903     Physics     The Nobel Prize in Physics 1903   \n",
              "29   1905       Peace          The Nobel Peace Prize 1905   \n",
              "51   1909  Literature  The Nobel Prize in Literature 1909   \n",
              "62   1911   Chemistry   The Nobel Prize in Chemistry 1911   \n",
              "128  1926  Literature  The Nobel Prize in Literature 1926   \n",
              "\n",
              "                                            motivation prize_share  \\\n",
              "18   \"in recognition of the extraordinary services ...         1/4   \n",
              "29                                                 NaN         1/1   \n",
              "51   \"in appreciation of the lofty idealism, vivid ...         1/1   \n",
              "62   \"in recognition of her services to the advance...         1/1   \n",
              "128  \"for her idealistically inspired writings whic...         1/1   \n",
              "\n",
              "    laureate_type                                          full_name  \\\n",
              "18     Individual                        Marie Curie, née Sklodowska   \n",
              "29     Individual  Baroness Bertha Sophie Felicita von Suttner, n...   \n",
              "51     Individual                      Selma Ottilia Lovisa Lagerlöf   \n",
              "62     Individual                        Marie Curie, née Sklodowska   \n",
              "128    Individual                                     Grazia Deledda   \n",
              "\n",
              "    birth_date       birth_city                     birth_country  \\\n",
              "18  1867-11-07           Warsaw           Russian Empire (Poland)   \n",
              "29  1843-06-09           Prague  Austrian Empire (Czech Republic)   \n",
              "51  1858-11-20         Mårbacka                            Sweden   \n",
              "62  1867-11-07           Warsaw           Russian Empire (Poland)   \n",
              "128 1871-09-27  Nuoro, Sardinia                             Italy   \n",
              "\n",
              "    birth_country_current     sex    organization_name organization_city  \\\n",
              "18                 Poland  Female                  NaN               NaN   \n",
              "29         Czech Republic  Female                  NaN               NaN   \n",
              "51                 Sweden  Female                  NaN               NaN   \n",
              "62                 Poland  Female  Sorbonne University             Paris   \n",
              "128                 Italy  Female                  NaN               NaN   \n",
              "\n",
              "    organization_country  ISO  share_pct  \n",
              "18                   NaN  POL       0.25  \n",
              "29                   NaN  CZE       1.00  \n",
              "51                   NaN  SWE       1.00  \n",
              "62                France  POL       1.00  \n",
              "128                  NaN  ITA       1.00  "
            ]
          },
          "execution_count": 25,
          "metadata": {},
          "output_type": "execute_result"
        }
      ],
      "source": [
        "df_women.head()"
      ]
    },
    {
      "cell_type": "markdown",
      "metadata": {
        "id": "dPVD_f1oo7Lw"
      },
      "source": [
        "# Find the Repeat Winners\n",
        "\n",
        "**Challenge**: Did some people get a Nobel Prize more than once? If so, who were they? "
      ]
    },
    {
      "cell_type": "code",
      "execution_count": 26,
      "metadata": {
        "id": "Qqf8_dWUFjpz"
      },
      "outputs": [
        {
          "name": "stdout",
          "output_type": "stream",
          "text": [
            "There are 6 winners who were awarded the prize more than once.\n"
          ]
        }
      ],
      "source": [
        "is_winner = df_data.duplicated(subset=['full_name'], keep=False)\n",
        "multiple_winners = df_data[is_winner]\n",
        "print(f'There are {multiple_winners.full_name.nunique()}' \\\n",
        "      ' winners who were awarded the prize more than once.')"
      ]
    },
    {
      "cell_type": "code",
      "execution_count": 27,
      "metadata": {
        "id": "UuIqCxQvFjdF"
      },
      "outputs": [
        {
          "data": {
            "text/html": [
              "<div>\n",
              "<style scoped>\n",
              "    .dataframe tbody tr th:only-of-type {\n",
              "        vertical-align: middle;\n",
              "    }\n",
              "\n",
              "    .dataframe tbody tr th {\n",
              "        vertical-align: top;\n",
              "    }\n",
              "\n",
              "    .dataframe thead th {\n",
              "        text-align: right;\n",
              "    }\n",
              "</style>\n",
              "<table border=\"1\" class=\"dataframe\">\n",
              "  <thead>\n",
              "    <tr style=\"text-align: right;\">\n",
              "      <th></th>\n",
              "      <th>year</th>\n",
              "      <th>category</th>\n",
              "      <th>laureate_type</th>\n",
              "      <th>full_name</th>\n",
              "    </tr>\n",
              "  </thead>\n",
              "  <tbody>\n",
              "    <tr>\n",
              "      <th>18</th>\n",
              "      <td>1903</td>\n",
              "      <td>Physics</td>\n",
              "      <td>Individual</td>\n",
              "      <td>Marie Curie, née Sklodowska</td>\n",
              "    </tr>\n",
              "    <tr>\n",
              "      <th>62</th>\n",
              "      <td>1911</td>\n",
              "      <td>Chemistry</td>\n",
              "      <td>Individual</td>\n",
              "      <td>Marie Curie, née Sklodowska</td>\n",
              "    </tr>\n",
              "    <tr>\n",
              "      <th>89</th>\n",
              "      <td>1917</td>\n",
              "      <td>Peace</td>\n",
              "      <td>Organization</td>\n",
              "      <td>Comité international de la Croix Rouge (Intern...</td>\n",
              "    </tr>\n",
              "    <tr>\n",
              "      <th>215</th>\n",
              "      <td>1944</td>\n",
              "      <td>Peace</td>\n",
              "      <td>Organization</td>\n",
              "      <td>Comité international de la Croix Rouge (Intern...</td>\n",
              "    </tr>\n",
              "    <tr>\n",
              "      <th>278</th>\n",
              "      <td>1954</td>\n",
              "      <td>Chemistry</td>\n",
              "      <td>Individual</td>\n",
              "      <td>Linus Carl Pauling</td>\n",
              "    </tr>\n",
              "    <tr>\n",
              "      <th>283</th>\n",
              "      <td>1954</td>\n",
              "      <td>Peace</td>\n",
              "      <td>Organization</td>\n",
              "      <td>Office of the United Nations High Commissioner...</td>\n",
              "    </tr>\n",
              "    <tr>\n",
              "      <th>297</th>\n",
              "      <td>1956</td>\n",
              "      <td>Physics</td>\n",
              "      <td>Individual</td>\n",
              "      <td>John Bardeen</td>\n",
              "    </tr>\n",
              "    <tr>\n",
              "      <th>306</th>\n",
              "      <td>1958</td>\n",
              "      <td>Chemistry</td>\n",
              "      <td>Individual</td>\n",
              "      <td>Frederick Sanger</td>\n",
              "    </tr>\n",
              "    <tr>\n",
              "      <th>340</th>\n",
              "      <td>1962</td>\n",
              "      <td>Peace</td>\n",
              "      <td>Individual</td>\n",
              "      <td>Linus Carl Pauling</td>\n",
              "    </tr>\n",
              "    <tr>\n",
              "      <th>348</th>\n",
              "      <td>1963</td>\n",
              "      <td>Peace</td>\n",
              "      <td>Organization</td>\n",
              "      <td>Comité international de la Croix Rouge (Intern...</td>\n",
              "    </tr>\n",
              "    <tr>\n",
              "      <th>424</th>\n",
              "      <td>1972</td>\n",
              "      <td>Physics</td>\n",
              "      <td>Individual</td>\n",
              "      <td>John Bardeen</td>\n",
              "    </tr>\n",
              "    <tr>\n",
              "      <th>505</th>\n",
              "      <td>1980</td>\n",
              "      <td>Chemistry</td>\n",
              "      <td>Individual</td>\n",
              "      <td>Frederick Sanger</td>\n",
              "    </tr>\n",
              "    <tr>\n",
              "      <th>523</th>\n",
              "      <td>1981</td>\n",
              "      <td>Peace</td>\n",
              "      <td>Organization</td>\n",
              "      <td>Office of the United Nations High Commissioner...</td>\n",
              "    </tr>\n",
              "  </tbody>\n",
              "</table>\n",
              "</div>"
            ],
            "text/plain": [
              "     year   category laureate_type  \\\n",
              "18   1903    Physics    Individual   \n",
              "62   1911  Chemistry    Individual   \n",
              "89   1917      Peace  Organization   \n",
              "215  1944      Peace  Organization   \n",
              "278  1954  Chemistry    Individual   \n",
              "283  1954      Peace  Organization   \n",
              "297  1956    Physics    Individual   \n",
              "306  1958  Chemistry    Individual   \n",
              "340  1962      Peace    Individual   \n",
              "348  1963      Peace  Organization   \n",
              "424  1972    Physics    Individual   \n",
              "505  1980  Chemistry    Individual   \n",
              "523  1981      Peace  Organization   \n",
              "\n",
              "                                             full_name  \n",
              "18                         Marie Curie, née Sklodowska  \n",
              "62                         Marie Curie, née Sklodowska  \n",
              "89   Comité international de la Croix Rouge (Intern...  \n",
              "215  Comité international de la Croix Rouge (Intern...  \n",
              "278                                 Linus Carl Pauling  \n",
              "283  Office of the United Nations High Commissioner...  \n",
              "297                                       John Bardeen  \n",
              "306                                   Frederick Sanger  \n",
              "340                                 Linus Carl Pauling  \n",
              "348  Comité international de la Croix Rouge (Intern...  \n",
              "424                                       John Bardeen  \n",
              "505                                   Frederick Sanger  \n",
              "523  Office of the United Nations High Commissioner...  "
            ]
          },
          "execution_count": 27,
          "metadata": {},
          "output_type": "execute_result"
        }
      ],
      "source": [
        "col_subset = ['year', 'category', 'laureate_type', 'full_name']\n",
        "multiple_winners[col_subset]"
      ]
    },
    {
      "cell_type": "markdown",
      "metadata": {
        "dc": {
          "key": "45"
        },
        "id": "x5NtE05go7L1",
        "tags": [
          "sample_code"
        ]
      },
      "source": [
        "# Number of Prizes per Category\n",
        "\n",
        "**Challenge**: \n",
        "* In how many categories are prizes awarded? \n",
        "* Create a plotly bar chart with the number of prizes awarded by category. \n",
        "* Use the color scale called `Aggrnyl` to colour the chart, but don't show a color axis.\n",
        "* Which category has the most number of prizes awarded? \n",
        "* Which category has the fewest number of prizes awarded? "
      ]
    },
    {
      "cell_type": "code",
      "execution_count": 28,
      "metadata": {
        "id": "EjwqH7bxFm10"
      },
      "outputs": [
        {
          "data": {
            "text/plain": [
              "6"
            ]
          },
          "execution_count": 28,
          "metadata": {},
          "output_type": "execute_result"
        }
      ],
      "source": [
        "df_data.category.nunique()"
      ]
    },
    {
      "cell_type": "code",
      "execution_count": 31,
      "metadata": {
        "id": "BhweS8X1FmuL"
      },
      "outputs": [
        {
          "data": {
            "application/vnd.plotly.v1+json": {
              "config": {
                "plotlyServerURL": "https://plot.ly"
              },
              "data": [
                {
                  "hovertemplate": "x=%{x}<br>y=%{y}<br>color=%{marker.color}<extra></extra>",
                  "legendgroup": "",
                  "marker": {
                    "color": {
                      "bdata": "3gDYALoAhwB1AFYA",
                      "dtype": "i2"
                    },
                    "coloraxis": "coloraxis",
                    "pattern": {
                      "shape": ""
                    }
                  },
                  "name": "",
                  "orientation": "v",
                  "showlegend": false,
                  "textposition": "auto",
                  "type": "bar",
                  "x": [
                    "Medicine",
                    "Physics",
                    "Chemistry",
                    "Peace",
                    "Literature",
                    "Economics"
                  ],
                  "xaxis": "x",
                  "y": {
                    "bdata": "3gDYALoAhwB1AFYA",
                    "dtype": "i2"
                  },
                  "yaxis": "y"
                }
              ],
              "layout": {
                "barmode": "relative",
                "coloraxis": {
                  "colorbar": {
                    "title": {
                      "text": "color"
                    }
                  },
                  "colorscale": [
                    [
                      0,
                      "rgb(36, 86, 104)"
                    ],
                    [
                      0.16666666666666666,
                      "rgb(15, 114, 121)"
                    ],
                    [
                      0.3333333333333333,
                      "rgb(13, 143, 129)"
                    ],
                    [
                      0.5,
                      "rgb(57, 171, 126)"
                    ],
                    [
                      0.6666666666666666,
                      "rgb(110, 197, 116)"
                    ],
                    [
                      0.8333333333333334,
                      "rgb(169, 220, 103)"
                    ],
                    [
                      1,
                      "rgb(237, 239, 93)"
                    ]
                  ],
                  "showscale": false
                },
                "legend": {
                  "tracegroupgap": 0
                },
                "template": {
                  "data": {
                    "bar": [
                      {
                        "error_x": {
                          "color": "#2a3f5f"
                        },
                        "error_y": {
                          "color": "#2a3f5f"
                        },
                        "marker": {
                          "line": {
                            "color": "#E5ECF6",
                            "width": 0.5
                          },
                          "pattern": {
                            "fillmode": "overlay",
                            "size": 10,
                            "solidity": 0.2
                          }
                        },
                        "type": "bar"
                      }
                    ],
                    "barpolar": [
                      {
                        "marker": {
                          "line": {
                            "color": "#E5ECF6",
                            "width": 0.5
                          },
                          "pattern": {
                            "fillmode": "overlay",
                            "size": 10,
                            "solidity": 0.2
                          }
                        },
                        "type": "barpolar"
                      }
                    ],
                    "carpet": [
                      {
                        "aaxis": {
                          "endlinecolor": "#2a3f5f",
                          "gridcolor": "white",
                          "linecolor": "white",
                          "minorgridcolor": "white",
                          "startlinecolor": "#2a3f5f"
                        },
                        "baxis": {
                          "endlinecolor": "#2a3f5f",
                          "gridcolor": "white",
                          "linecolor": "white",
                          "minorgridcolor": "white",
                          "startlinecolor": "#2a3f5f"
                        },
                        "type": "carpet"
                      }
                    ],
                    "choropleth": [
                      {
                        "colorbar": {
                          "outlinewidth": 0,
                          "ticks": ""
                        },
                        "type": "choropleth"
                      }
                    ],
                    "contour": [
                      {
                        "colorbar": {
                          "outlinewidth": 0,
                          "ticks": ""
                        },
                        "colorscale": [
                          [
                            0,
                            "#0d0887"
                          ],
                          [
                            0.1111111111111111,
                            "#46039f"
                          ],
                          [
                            0.2222222222222222,
                            "#7201a8"
                          ],
                          [
                            0.3333333333333333,
                            "#9c179e"
                          ],
                          [
                            0.4444444444444444,
                            "#bd3786"
                          ],
                          [
                            0.5555555555555556,
                            "#d8576b"
                          ],
                          [
                            0.6666666666666666,
                            "#ed7953"
                          ],
                          [
                            0.7777777777777778,
                            "#fb9f3a"
                          ],
                          [
                            0.8888888888888888,
                            "#fdca26"
                          ],
                          [
                            1,
                            "#f0f921"
                          ]
                        ],
                        "type": "contour"
                      }
                    ],
                    "contourcarpet": [
                      {
                        "colorbar": {
                          "outlinewidth": 0,
                          "ticks": ""
                        },
                        "type": "contourcarpet"
                      }
                    ],
                    "heatmap": [
                      {
                        "colorbar": {
                          "outlinewidth": 0,
                          "ticks": ""
                        },
                        "colorscale": [
                          [
                            0,
                            "#0d0887"
                          ],
                          [
                            0.1111111111111111,
                            "#46039f"
                          ],
                          [
                            0.2222222222222222,
                            "#7201a8"
                          ],
                          [
                            0.3333333333333333,
                            "#9c179e"
                          ],
                          [
                            0.4444444444444444,
                            "#bd3786"
                          ],
                          [
                            0.5555555555555556,
                            "#d8576b"
                          ],
                          [
                            0.6666666666666666,
                            "#ed7953"
                          ],
                          [
                            0.7777777777777778,
                            "#fb9f3a"
                          ],
                          [
                            0.8888888888888888,
                            "#fdca26"
                          ],
                          [
                            1,
                            "#f0f921"
                          ]
                        ],
                        "type": "heatmap"
                      }
                    ],
                    "histogram": [
                      {
                        "marker": {
                          "pattern": {
                            "fillmode": "overlay",
                            "size": 10,
                            "solidity": 0.2
                          }
                        },
                        "type": "histogram"
                      }
                    ],
                    "histogram2d": [
                      {
                        "colorbar": {
                          "outlinewidth": 0,
                          "ticks": ""
                        },
                        "colorscale": [
                          [
                            0,
                            "#0d0887"
                          ],
                          [
                            0.1111111111111111,
                            "#46039f"
                          ],
                          [
                            0.2222222222222222,
                            "#7201a8"
                          ],
                          [
                            0.3333333333333333,
                            "#9c179e"
                          ],
                          [
                            0.4444444444444444,
                            "#bd3786"
                          ],
                          [
                            0.5555555555555556,
                            "#d8576b"
                          ],
                          [
                            0.6666666666666666,
                            "#ed7953"
                          ],
                          [
                            0.7777777777777778,
                            "#fb9f3a"
                          ],
                          [
                            0.8888888888888888,
                            "#fdca26"
                          ],
                          [
                            1,
                            "#f0f921"
                          ]
                        ],
                        "type": "histogram2d"
                      }
                    ],
                    "histogram2dcontour": [
                      {
                        "colorbar": {
                          "outlinewidth": 0,
                          "ticks": ""
                        },
                        "colorscale": [
                          [
                            0,
                            "#0d0887"
                          ],
                          [
                            0.1111111111111111,
                            "#46039f"
                          ],
                          [
                            0.2222222222222222,
                            "#7201a8"
                          ],
                          [
                            0.3333333333333333,
                            "#9c179e"
                          ],
                          [
                            0.4444444444444444,
                            "#bd3786"
                          ],
                          [
                            0.5555555555555556,
                            "#d8576b"
                          ],
                          [
                            0.6666666666666666,
                            "#ed7953"
                          ],
                          [
                            0.7777777777777778,
                            "#fb9f3a"
                          ],
                          [
                            0.8888888888888888,
                            "#fdca26"
                          ],
                          [
                            1,
                            "#f0f921"
                          ]
                        ],
                        "type": "histogram2dcontour"
                      }
                    ],
                    "mesh3d": [
                      {
                        "colorbar": {
                          "outlinewidth": 0,
                          "ticks": ""
                        },
                        "type": "mesh3d"
                      }
                    ],
                    "parcoords": [
                      {
                        "line": {
                          "colorbar": {
                            "outlinewidth": 0,
                            "ticks": ""
                          }
                        },
                        "type": "parcoords"
                      }
                    ],
                    "pie": [
                      {
                        "automargin": true,
                        "type": "pie"
                      }
                    ],
                    "scatter": [
                      {
                        "fillpattern": {
                          "fillmode": "overlay",
                          "size": 10,
                          "solidity": 0.2
                        },
                        "type": "scatter"
                      }
                    ],
                    "scatter3d": [
                      {
                        "line": {
                          "colorbar": {
                            "outlinewidth": 0,
                            "ticks": ""
                          }
                        },
                        "marker": {
                          "colorbar": {
                            "outlinewidth": 0,
                            "ticks": ""
                          }
                        },
                        "type": "scatter3d"
                      }
                    ],
                    "scattercarpet": [
                      {
                        "marker": {
                          "colorbar": {
                            "outlinewidth": 0,
                            "ticks": ""
                          }
                        },
                        "type": "scattercarpet"
                      }
                    ],
                    "scattergeo": [
                      {
                        "marker": {
                          "colorbar": {
                            "outlinewidth": 0,
                            "ticks": ""
                          }
                        },
                        "type": "scattergeo"
                      }
                    ],
                    "scattergl": [
                      {
                        "marker": {
                          "colorbar": {
                            "outlinewidth": 0,
                            "ticks": ""
                          }
                        },
                        "type": "scattergl"
                      }
                    ],
                    "scattermap": [
                      {
                        "marker": {
                          "colorbar": {
                            "outlinewidth": 0,
                            "ticks": ""
                          }
                        },
                        "type": "scattermap"
                      }
                    ],
                    "scattermapbox": [
                      {
                        "marker": {
                          "colorbar": {
                            "outlinewidth": 0,
                            "ticks": ""
                          }
                        },
                        "type": "scattermapbox"
                      }
                    ],
                    "scatterpolar": [
                      {
                        "marker": {
                          "colorbar": {
                            "outlinewidth": 0,
                            "ticks": ""
                          }
                        },
                        "type": "scatterpolar"
                      }
                    ],
                    "scatterpolargl": [
                      {
                        "marker": {
                          "colorbar": {
                            "outlinewidth": 0,
                            "ticks": ""
                          }
                        },
                        "type": "scatterpolargl"
                      }
                    ],
                    "scatterternary": [
                      {
                        "marker": {
                          "colorbar": {
                            "outlinewidth": 0,
                            "ticks": ""
                          }
                        },
                        "type": "scatterternary"
                      }
                    ],
                    "surface": [
                      {
                        "colorbar": {
                          "outlinewidth": 0,
                          "ticks": ""
                        },
                        "colorscale": [
                          [
                            0,
                            "#0d0887"
                          ],
                          [
                            0.1111111111111111,
                            "#46039f"
                          ],
                          [
                            0.2222222222222222,
                            "#7201a8"
                          ],
                          [
                            0.3333333333333333,
                            "#9c179e"
                          ],
                          [
                            0.4444444444444444,
                            "#bd3786"
                          ],
                          [
                            0.5555555555555556,
                            "#d8576b"
                          ],
                          [
                            0.6666666666666666,
                            "#ed7953"
                          ],
                          [
                            0.7777777777777778,
                            "#fb9f3a"
                          ],
                          [
                            0.8888888888888888,
                            "#fdca26"
                          ],
                          [
                            1,
                            "#f0f921"
                          ]
                        ],
                        "type": "surface"
                      }
                    ],
                    "table": [
                      {
                        "cells": {
                          "fill": {
                            "color": "#EBF0F8"
                          },
                          "line": {
                            "color": "white"
                          }
                        },
                        "header": {
                          "fill": {
                            "color": "#C8D4E3"
                          },
                          "line": {
                            "color": "white"
                          }
                        },
                        "type": "table"
                      }
                    ]
                  },
                  "layout": {
                    "annotationdefaults": {
                      "arrowcolor": "#2a3f5f",
                      "arrowhead": 0,
                      "arrowwidth": 1
                    },
                    "autotypenumbers": "strict",
                    "coloraxis": {
                      "colorbar": {
                        "outlinewidth": 0,
                        "ticks": ""
                      }
                    },
                    "colorscale": {
                      "diverging": [
                        [
                          0,
                          "#8e0152"
                        ],
                        [
                          0.1,
                          "#c51b7d"
                        ],
                        [
                          0.2,
                          "#de77ae"
                        ],
                        [
                          0.3,
                          "#f1b6da"
                        ],
                        [
                          0.4,
                          "#fde0ef"
                        ],
                        [
                          0.5,
                          "#f7f7f7"
                        ],
                        [
                          0.6,
                          "#e6f5d0"
                        ],
                        [
                          0.7,
                          "#b8e186"
                        ],
                        [
                          0.8,
                          "#7fbc41"
                        ],
                        [
                          0.9,
                          "#4d9221"
                        ],
                        [
                          1,
                          "#276419"
                        ]
                      ],
                      "sequential": [
                        [
                          0,
                          "#0d0887"
                        ],
                        [
                          0.1111111111111111,
                          "#46039f"
                        ],
                        [
                          0.2222222222222222,
                          "#7201a8"
                        ],
                        [
                          0.3333333333333333,
                          "#9c179e"
                        ],
                        [
                          0.4444444444444444,
                          "#bd3786"
                        ],
                        [
                          0.5555555555555556,
                          "#d8576b"
                        ],
                        [
                          0.6666666666666666,
                          "#ed7953"
                        ],
                        [
                          0.7777777777777778,
                          "#fb9f3a"
                        ],
                        [
                          0.8888888888888888,
                          "#fdca26"
                        ],
                        [
                          1,
                          "#f0f921"
                        ]
                      ],
                      "sequentialminus": [
                        [
                          0,
                          "#0d0887"
                        ],
                        [
                          0.1111111111111111,
                          "#46039f"
                        ],
                        [
                          0.2222222222222222,
                          "#7201a8"
                        ],
                        [
                          0.3333333333333333,
                          "#9c179e"
                        ],
                        [
                          0.4444444444444444,
                          "#bd3786"
                        ],
                        [
                          0.5555555555555556,
                          "#d8576b"
                        ],
                        [
                          0.6666666666666666,
                          "#ed7953"
                        ],
                        [
                          0.7777777777777778,
                          "#fb9f3a"
                        ],
                        [
                          0.8888888888888888,
                          "#fdca26"
                        ],
                        [
                          1,
                          "#f0f921"
                        ]
                      ]
                    },
                    "colorway": [
                      "#636efa",
                      "#EF553B",
                      "#00cc96",
                      "#ab63fa",
                      "#FFA15A",
                      "#19d3f3",
                      "#FF6692",
                      "#B6E880",
                      "#FF97FF",
                      "#FECB52"
                    ],
                    "font": {
                      "color": "#2a3f5f"
                    },
                    "geo": {
                      "bgcolor": "white",
                      "lakecolor": "white",
                      "landcolor": "#E5ECF6",
                      "showlakes": true,
                      "showland": true,
                      "subunitcolor": "white"
                    },
                    "hoverlabel": {
                      "align": "left"
                    },
                    "hovermode": "closest",
                    "mapbox": {
                      "style": "light"
                    },
                    "paper_bgcolor": "white",
                    "plot_bgcolor": "#E5ECF6",
                    "polar": {
                      "angularaxis": {
                        "gridcolor": "white",
                        "linecolor": "white",
                        "ticks": ""
                      },
                      "bgcolor": "#E5ECF6",
                      "radialaxis": {
                        "gridcolor": "white",
                        "linecolor": "white",
                        "ticks": ""
                      }
                    },
                    "scene": {
                      "xaxis": {
                        "backgroundcolor": "#E5ECF6",
                        "gridcolor": "white",
                        "gridwidth": 2,
                        "linecolor": "white",
                        "showbackground": true,
                        "ticks": "",
                        "zerolinecolor": "white"
                      },
                      "yaxis": {
                        "backgroundcolor": "#E5ECF6",
                        "gridcolor": "white",
                        "gridwidth": 2,
                        "linecolor": "white",
                        "showbackground": true,
                        "ticks": "",
                        "zerolinecolor": "white"
                      },
                      "zaxis": {
                        "backgroundcolor": "#E5ECF6",
                        "gridcolor": "white",
                        "gridwidth": 2,
                        "linecolor": "white",
                        "showbackground": true,
                        "ticks": "",
                        "zerolinecolor": "white"
                      }
                    },
                    "shapedefaults": {
                      "line": {
                        "color": "#2a3f5f"
                      }
                    },
                    "ternary": {
                      "aaxis": {
                        "gridcolor": "white",
                        "linecolor": "white",
                        "ticks": ""
                      },
                      "baxis": {
                        "gridcolor": "white",
                        "linecolor": "white",
                        "ticks": ""
                      },
                      "bgcolor": "#E5ECF6",
                      "caxis": {
                        "gridcolor": "white",
                        "linecolor": "white",
                        "ticks": ""
                      }
                    },
                    "title": {
                      "x": 0.05
                    },
                    "xaxis": {
                      "automargin": true,
                      "gridcolor": "white",
                      "linecolor": "white",
                      "ticks": "",
                      "title": {
                        "standoff": 15
                      },
                      "zerolinecolor": "white",
                      "zerolinewidth": 2
                    },
                    "yaxis": {
                      "automargin": true,
                      "gridcolor": "white",
                      "linecolor": "white",
                      "ticks": "",
                      "title": {
                        "standoff": 15
                      },
                      "zerolinecolor": "white",
                      "zerolinewidth": 2
                    }
                  }
                },
                "title": {
                  "text": "Number of Prizes Awarded per Category"
                },
                "xaxis": {
                  "anchor": "y",
                  "domain": [
                    0,
                    1
                  ],
                  "title": {
                    "text": "Nobel Prize Category"
                  }
                },
                "yaxis": {
                  "anchor": "x",
                  "domain": [
                    0,
                    1
                  ],
                  "title": {
                    "text": "Number of Prizes"
                  }
                }
              }
            }
          },
          "metadata": {},
          "output_type": "display_data"
        }
      ],
      "source": [
        "prizes_per_category = df_data.category.value_counts()\n",
        "v_bar = px.bar(\n",
        "        x = prizes_per_category.index,\n",
        "        y = prizes_per_category.values,\n",
        "        color = prizes_per_category.values,\n",
        "        color_continuous_scale='Aggrnyl',\n",
        "        title='Number of Prizes Awarded per Category')\n",
        " \n",
        "v_bar.update_layout(xaxis_title='Nobel Prize Category', \n",
        "                    coloraxis_showscale=False,\n",
        "                    yaxis_title='Number of Prizes')\n",
        "v_bar.show()"
      ]
    },
    {
      "cell_type": "code",
      "execution_count": null,
      "metadata": {
        "id": "MDvvaUHiFoSS"
      },
      "outputs": [],
      "source": []
    },
    {
      "cell_type": "markdown",
      "metadata": {
        "id": "nlISAxfXo7L5"
      },
      "source": [
        "**Challenge**: \n",
        "* When was the first prize in the field of Economics awarded?\n",
        "* Who did the prize go to?"
      ]
    },
    {
      "cell_type": "code",
      "execution_count": 33,
      "metadata": {
        "id": "ndzQ8lz6FpSG"
      },
      "outputs": [
        {
          "data": {
            "text/html": [
              "<div>\n",
              "<style scoped>\n",
              "    .dataframe tbody tr th:only-of-type {\n",
              "        vertical-align: middle;\n",
              "    }\n",
              "\n",
              "    .dataframe tbody tr th {\n",
              "        vertical-align: top;\n",
              "    }\n",
              "\n",
              "    .dataframe thead th {\n",
              "        text-align: right;\n",
              "    }\n",
              "</style>\n",
              "<table border=\"1\" class=\"dataframe\">\n",
              "  <thead>\n",
              "    <tr style=\"text-align: right;\">\n",
              "      <th></th>\n",
              "      <th>year</th>\n",
              "      <th>category</th>\n",
              "      <th>prize</th>\n",
              "      <th>motivation</th>\n",
              "      <th>prize_share</th>\n",
              "      <th>laureate_type</th>\n",
              "      <th>full_name</th>\n",
              "      <th>birth_date</th>\n",
              "      <th>birth_city</th>\n",
              "      <th>birth_country</th>\n",
              "      <th>birth_country_current</th>\n",
              "      <th>sex</th>\n",
              "      <th>organization_name</th>\n",
              "      <th>organization_city</th>\n",
              "      <th>organization_country</th>\n",
              "      <th>ISO</th>\n",
              "      <th>share_pct</th>\n",
              "    </tr>\n",
              "  </thead>\n",
              "  <tbody>\n",
              "    <tr>\n",
              "      <th>393</th>\n",
              "      <td>1969</td>\n",
              "      <td>Economics</td>\n",
              "      <td>The Sveriges Riksbank Prize in Economic Scienc...</td>\n",
              "      <td>\"for having developed and applied dynamic mode...</td>\n",
              "      <td>1/2</td>\n",
              "      <td>Individual</td>\n",
              "      <td>Jan Tinbergen</td>\n",
              "      <td>1903-04-12</td>\n",
              "      <td>the Hague</td>\n",
              "      <td>Netherlands</td>\n",
              "      <td>Netherlands</td>\n",
              "      <td>Male</td>\n",
              "      <td>The Netherlands School of Economics</td>\n",
              "      <td>Rotterdam</td>\n",
              "      <td>Netherlands</td>\n",
              "      <td>NLD</td>\n",
              "      <td>0.50</td>\n",
              "    </tr>\n",
              "    <tr>\n",
              "      <th>394</th>\n",
              "      <td>1969</td>\n",
              "      <td>Economics</td>\n",
              "      <td>The Sveriges Riksbank Prize in Economic Scienc...</td>\n",
              "      <td>\"for having developed and applied dynamic mode...</td>\n",
              "      <td>1/2</td>\n",
              "      <td>Individual</td>\n",
              "      <td>Ragnar Frisch</td>\n",
              "      <td>1895-03-03</td>\n",
              "      <td>Oslo</td>\n",
              "      <td>Norway</td>\n",
              "      <td>Norway</td>\n",
              "      <td>Male</td>\n",
              "      <td>University of Oslo</td>\n",
              "      <td>Oslo</td>\n",
              "      <td>Norway</td>\n",
              "      <td>NOR</td>\n",
              "      <td>0.50</td>\n",
              "    </tr>\n",
              "    <tr>\n",
              "      <th>402</th>\n",
              "      <td>1970</td>\n",
              "      <td>Economics</td>\n",
              "      <td>The Sveriges Riksbank Prize in Economic Scienc...</td>\n",
              "      <td>\"for the scientific work through which he has ...</td>\n",
              "      <td>1/1</td>\n",
              "      <td>Individual</td>\n",
              "      <td>Paul A. Samuelson</td>\n",
              "      <td>1915-05-15</td>\n",
              "      <td>Gary, IN</td>\n",
              "      <td>United States of America</td>\n",
              "      <td>United States of America</td>\n",
              "      <td>Male</td>\n",
              "      <td>Massachusetts Institute of Technology (MIT)</td>\n",
              "      <td>Cambridge, MA</td>\n",
              "      <td>United States of America</td>\n",
              "      <td>USA</td>\n",
              "      <td>1.00</td>\n",
              "    </tr>\n",
              "    <tr>\n",
              "      <th>411</th>\n",
              "      <td>1971</td>\n",
              "      <td>Economics</td>\n",
              "      <td>The Sveriges Riksbank Prize in Economic Scienc...</td>\n",
              "      <td>\"for his empirically founded interpretation of...</td>\n",
              "      <td>1/1</td>\n",
              "      <td>Individual</td>\n",
              "      <td>Simon Kuznets</td>\n",
              "      <td>1901-04-30</td>\n",
              "      <td>Pinsk</td>\n",
              "      <td>Russian Empire (Belarus)</td>\n",
              "      <td>Belarus</td>\n",
              "      <td>Male</td>\n",
              "      <td>Harvard University</td>\n",
              "      <td>Cambridge, MA</td>\n",
              "      <td>United States of America</td>\n",
              "      <td>BLR</td>\n",
              "      <td>1.00</td>\n",
              "    </tr>\n",
              "    <tr>\n",
              "      <th>419</th>\n",
              "      <td>1972</td>\n",
              "      <td>Economics</td>\n",
              "      <td>The Sveriges Riksbank Prize in Economic Scienc...</td>\n",
              "      <td>\"for their pioneering contributions to general...</td>\n",
              "      <td>1/2</td>\n",
              "      <td>Individual</td>\n",
              "      <td>John R. Hicks</td>\n",
              "      <td>1904-04-08</td>\n",
              "      <td>Warwick</td>\n",
              "      <td>United Kingdom</td>\n",
              "      <td>United Kingdom</td>\n",
              "      <td>Male</td>\n",
              "      <td>University of Oxford</td>\n",
              "      <td>Oxford</td>\n",
              "      <td>United Kingdom</td>\n",
              "      <td>GBR</td>\n",
              "      <td>0.50</td>\n",
              "    </tr>\n",
              "  </tbody>\n",
              "</table>\n",
              "</div>"
            ],
            "text/plain": [
              "     year   category                                              prize  \\\n",
              "393  1969  Economics  The Sveriges Riksbank Prize in Economic Scienc...   \n",
              "394  1969  Economics  The Sveriges Riksbank Prize in Economic Scienc...   \n",
              "402  1970  Economics  The Sveriges Riksbank Prize in Economic Scienc...   \n",
              "411  1971  Economics  The Sveriges Riksbank Prize in Economic Scienc...   \n",
              "419  1972  Economics  The Sveriges Riksbank Prize in Economic Scienc...   \n",
              "\n",
              "                                            motivation prize_share  \\\n",
              "393  \"for having developed and applied dynamic mode...         1/2   \n",
              "394  \"for having developed and applied dynamic mode...         1/2   \n",
              "402  \"for the scientific work through which he has ...         1/1   \n",
              "411  \"for his empirically founded interpretation of...         1/1   \n",
              "419  \"for their pioneering contributions to general...         1/2   \n",
              "\n",
              "    laureate_type          full_name birth_date birth_city  \\\n",
              "393    Individual      Jan Tinbergen 1903-04-12  the Hague   \n",
              "394    Individual      Ragnar Frisch 1895-03-03       Oslo   \n",
              "402    Individual  Paul A. Samuelson 1915-05-15   Gary, IN   \n",
              "411    Individual      Simon Kuznets 1901-04-30      Pinsk   \n",
              "419    Individual      John R. Hicks 1904-04-08    Warwick   \n",
              "\n",
              "                birth_country     birth_country_current   sex  \\\n",
              "393               Netherlands               Netherlands  Male   \n",
              "394                    Norway                    Norway  Male   \n",
              "402  United States of America  United States of America  Male   \n",
              "411  Russian Empire (Belarus)                   Belarus  Male   \n",
              "419            United Kingdom            United Kingdom  Male   \n",
              "\n",
              "                               organization_name organization_city  \\\n",
              "393          The Netherlands School of Economics         Rotterdam   \n",
              "394                           University of Oslo              Oslo   \n",
              "402  Massachusetts Institute of Technology (MIT)     Cambridge, MA   \n",
              "411                           Harvard University     Cambridge, MA   \n",
              "419                         University of Oxford            Oxford   \n",
              "\n",
              "         organization_country  ISO  share_pct  \n",
              "393               Netherlands  NLD       0.50  \n",
              "394                    Norway  NOR       0.50  \n",
              "402  United States of America  USA       1.00  \n",
              "411  United States of America  BLR       1.00  \n",
              "419            United Kingdom  GBR       0.50  "
            ]
          },
          "execution_count": 33,
          "metadata": {},
          "output_type": "execute_result"
        }
      ],
      "source": [
        "df_economics = df_data[df_data.category == 'Economics']\n",
        "df_economics.head()"
      ]
    },
    {
      "cell_type": "code",
      "execution_count": null,
      "metadata": {
        "id": "_7X079YUFpgn"
      },
      "outputs": [],
      "source": []
    },
    {
      "cell_type": "code",
      "execution_count": null,
      "metadata": {
        "id": "QFcoPbA8FpVK"
      },
      "outputs": [],
      "source": []
    },
    {
      "cell_type": "markdown",
      "metadata": {
        "dc": {
          "key": "31"
        },
        "id": "COqMa0fIo7L7",
        "run_control": {
          "frozen": true
        },
        "tags": [
          "context"
        ]
      },
      "source": [
        "# Male and Female Winners by Category\n",
        "\n",
        "**Challenge**: Create a [plotly bar chart](https://plotly.com/python/bar-charts/) that shows the split between men and women by category. \n",
        "* Hover over the bar chart. How many prizes went to women in Literature compared to Physics?\n",
        "\n",
        "<img src=https://i.imgur.com/od8TfOp.png width=650>"
      ]
    },
    {
      "cell_type": "code",
      "execution_count": 34,
      "metadata": {
        "id": "5rm03TQmFrlk"
      },
      "outputs": [],
      "source": [
        "cat_men_women = df_data.groupby(['category', 'sex'], \n",
        "                               as_index=False).agg({'prize': pd.Series.count})\n",
        "cat_men_women.sort_values('prize', ascending=False, inplace=True)"
      ]
    },
    {
      "cell_type": "code",
      "execution_count": 35,
      "metadata": {
        "id": "XTrMUbBmFroT"
      },
      "outputs": [
        {
          "data": {
            "text/html": [
              "<div>\n",
              "<style scoped>\n",
              "    .dataframe tbody tr th:only-of-type {\n",
              "        vertical-align: middle;\n",
              "    }\n",
              "\n",
              "    .dataframe tbody tr th {\n",
              "        vertical-align: top;\n",
              "    }\n",
              "\n",
              "    .dataframe thead th {\n",
              "        text-align: right;\n",
              "    }\n",
              "</style>\n",
              "<table border=\"1\" class=\"dataframe\">\n",
              "  <thead>\n",
              "    <tr style=\"text-align: right;\">\n",
              "      <th></th>\n",
              "      <th>category</th>\n",
              "      <th>sex</th>\n",
              "      <th>prize</th>\n",
              "    </tr>\n",
              "  </thead>\n",
              "  <tbody>\n",
              "    <tr>\n",
              "      <th>11</th>\n",
              "      <td>Physics</td>\n",
              "      <td>Male</td>\n",
              "      <td>212</td>\n",
              "    </tr>\n",
              "    <tr>\n",
              "      <th>7</th>\n",
              "      <td>Medicine</td>\n",
              "      <td>Male</td>\n",
              "      <td>210</td>\n",
              "    </tr>\n",
              "    <tr>\n",
              "      <th>1</th>\n",
              "      <td>Chemistry</td>\n",
              "      <td>Male</td>\n",
              "      <td>179</td>\n",
              "    </tr>\n",
              "    <tr>\n",
              "      <th>5</th>\n",
              "      <td>Literature</td>\n",
              "      <td>Male</td>\n",
              "      <td>101</td>\n",
              "    </tr>\n",
              "    <tr>\n",
              "      <th>9</th>\n",
              "      <td>Peace</td>\n",
              "      <td>Male</td>\n",
              "      <td>90</td>\n",
              "    </tr>\n",
              "    <tr>\n",
              "      <th>3</th>\n",
              "      <td>Economics</td>\n",
              "      <td>Male</td>\n",
              "      <td>84</td>\n",
              "    </tr>\n",
              "    <tr>\n",
              "      <th>8</th>\n",
              "      <td>Peace</td>\n",
              "      <td>Female</td>\n",
              "      <td>17</td>\n",
              "    </tr>\n",
              "    <tr>\n",
              "      <th>4</th>\n",
              "      <td>Literature</td>\n",
              "      <td>Female</td>\n",
              "      <td>16</td>\n",
              "    </tr>\n",
              "    <tr>\n",
              "      <th>6</th>\n",
              "      <td>Medicine</td>\n",
              "      <td>Female</td>\n",
              "      <td>12</td>\n",
              "    </tr>\n",
              "    <tr>\n",
              "      <th>0</th>\n",
              "      <td>Chemistry</td>\n",
              "      <td>Female</td>\n",
              "      <td>7</td>\n",
              "    </tr>\n",
              "    <tr>\n",
              "      <th>10</th>\n",
              "      <td>Physics</td>\n",
              "      <td>Female</td>\n",
              "      <td>4</td>\n",
              "    </tr>\n",
              "    <tr>\n",
              "      <th>2</th>\n",
              "      <td>Economics</td>\n",
              "      <td>Female</td>\n",
              "      <td>2</td>\n",
              "    </tr>\n",
              "  </tbody>\n",
              "</table>\n",
              "</div>"
            ],
            "text/plain": [
              "      category     sex  prize\n",
              "11     Physics    Male    212\n",
              "7     Medicine    Male    210\n",
              "1    Chemistry    Male    179\n",
              "5   Literature    Male    101\n",
              "9        Peace    Male     90\n",
              "3    Economics    Male     84\n",
              "8        Peace  Female     17\n",
              "4   Literature  Female     16\n",
              "6     Medicine  Female     12\n",
              "0    Chemistry  Female      7\n",
              "10     Physics  Female      4\n",
              "2    Economics  Female      2"
            ]
          },
          "execution_count": 35,
          "metadata": {},
          "output_type": "execute_result"
        }
      ],
      "source": [
        "cat_men_women"
      ]
    },
    {
      "cell_type": "code",
      "execution_count": 36,
      "metadata": {
        "id": "epWwbAi4FreH"
      },
      "outputs": [
        {
          "data": {
            "application/vnd.plotly.v1+json": {
              "config": {
                "plotlyServerURL": "https://plot.ly"
              },
              "data": [
                {
                  "hovertemplate": "color=Male<br>x=%{x}<br>y=%{y}<extra></extra>",
                  "legendgroup": "Male",
                  "marker": {
                    "color": "#636efa",
                    "pattern": {
                      "shape": ""
                    }
                  },
                  "name": "Male",
                  "orientation": "v",
                  "showlegend": true,
                  "textposition": "auto",
                  "type": "bar",
                  "x": [
                    "Physics",
                    "Medicine",
                    "Chemistry",
                    "Literature",
                    "Peace",
                    "Economics"
                  ],
                  "xaxis": "x",
                  "y": {
                    "bdata": "1ADSALMAZQBaAFQA",
                    "dtype": "i2"
                  },
                  "yaxis": "y"
                },
                {
                  "hovertemplate": "color=Female<br>x=%{x}<br>y=%{y}<extra></extra>",
                  "legendgroup": "Female",
                  "marker": {
                    "color": "#EF553B",
                    "pattern": {
                      "shape": ""
                    }
                  },
                  "name": "Female",
                  "orientation": "v",
                  "showlegend": true,
                  "textposition": "auto",
                  "type": "bar",
                  "x": [
                    "Peace",
                    "Literature",
                    "Medicine",
                    "Chemistry",
                    "Physics",
                    "Economics"
                  ],
                  "xaxis": "x",
                  "y": {
                    "bdata": "ERAMBwQC",
                    "dtype": "i1"
                  },
                  "yaxis": "y"
                }
              ],
              "layout": {
                "barmode": "relative",
                "legend": {
                  "title": {
                    "text": "color"
                  },
                  "tracegroupgap": 0
                },
                "template": {
                  "data": {
                    "bar": [
                      {
                        "error_x": {
                          "color": "#2a3f5f"
                        },
                        "error_y": {
                          "color": "#2a3f5f"
                        },
                        "marker": {
                          "line": {
                            "color": "#E5ECF6",
                            "width": 0.5
                          },
                          "pattern": {
                            "fillmode": "overlay",
                            "size": 10,
                            "solidity": 0.2
                          }
                        },
                        "type": "bar"
                      }
                    ],
                    "barpolar": [
                      {
                        "marker": {
                          "line": {
                            "color": "#E5ECF6",
                            "width": 0.5
                          },
                          "pattern": {
                            "fillmode": "overlay",
                            "size": 10,
                            "solidity": 0.2
                          }
                        },
                        "type": "barpolar"
                      }
                    ],
                    "carpet": [
                      {
                        "aaxis": {
                          "endlinecolor": "#2a3f5f",
                          "gridcolor": "white",
                          "linecolor": "white",
                          "minorgridcolor": "white",
                          "startlinecolor": "#2a3f5f"
                        },
                        "baxis": {
                          "endlinecolor": "#2a3f5f",
                          "gridcolor": "white",
                          "linecolor": "white",
                          "minorgridcolor": "white",
                          "startlinecolor": "#2a3f5f"
                        },
                        "type": "carpet"
                      }
                    ],
                    "choropleth": [
                      {
                        "colorbar": {
                          "outlinewidth": 0,
                          "ticks": ""
                        },
                        "type": "choropleth"
                      }
                    ],
                    "contour": [
                      {
                        "colorbar": {
                          "outlinewidth": 0,
                          "ticks": ""
                        },
                        "colorscale": [
                          [
                            0,
                            "#0d0887"
                          ],
                          [
                            0.1111111111111111,
                            "#46039f"
                          ],
                          [
                            0.2222222222222222,
                            "#7201a8"
                          ],
                          [
                            0.3333333333333333,
                            "#9c179e"
                          ],
                          [
                            0.4444444444444444,
                            "#bd3786"
                          ],
                          [
                            0.5555555555555556,
                            "#d8576b"
                          ],
                          [
                            0.6666666666666666,
                            "#ed7953"
                          ],
                          [
                            0.7777777777777778,
                            "#fb9f3a"
                          ],
                          [
                            0.8888888888888888,
                            "#fdca26"
                          ],
                          [
                            1,
                            "#f0f921"
                          ]
                        ],
                        "type": "contour"
                      }
                    ],
                    "contourcarpet": [
                      {
                        "colorbar": {
                          "outlinewidth": 0,
                          "ticks": ""
                        },
                        "type": "contourcarpet"
                      }
                    ],
                    "heatmap": [
                      {
                        "colorbar": {
                          "outlinewidth": 0,
                          "ticks": ""
                        },
                        "colorscale": [
                          [
                            0,
                            "#0d0887"
                          ],
                          [
                            0.1111111111111111,
                            "#46039f"
                          ],
                          [
                            0.2222222222222222,
                            "#7201a8"
                          ],
                          [
                            0.3333333333333333,
                            "#9c179e"
                          ],
                          [
                            0.4444444444444444,
                            "#bd3786"
                          ],
                          [
                            0.5555555555555556,
                            "#d8576b"
                          ],
                          [
                            0.6666666666666666,
                            "#ed7953"
                          ],
                          [
                            0.7777777777777778,
                            "#fb9f3a"
                          ],
                          [
                            0.8888888888888888,
                            "#fdca26"
                          ],
                          [
                            1,
                            "#f0f921"
                          ]
                        ],
                        "type": "heatmap"
                      }
                    ],
                    "histogram": [
                      {
                        "marker": {
                          "pattern": {
                            "fillmode": "overlay",
                            "size": 10,
                            "solidity": 0.2
                          }
                        },
                        "type": "histogram"
                      }
                    ],
                    "histogram2d": [
                      {
                        "colorbar": {
                          "outlinewidth": 0,
                          "ticks": ""
                        },
                        "colorscale": [
                          [
                            0,
                            "#0d0887"
                          ],
                          [
                            0.1111111111111111,
                            "#46039f"
                          ],
                          [
                            0.2222222222222222,
                            "#7201a8"
                          ],
                          [
                            0.3333333333333333,
                            "#9c179e"
                          ],
                          [
                            0.4444444444444444,
                            "#bd3786"
                          ],
                          [
                            0.5555555555555556,
                            "#d8576b"
                          ],
                          [
                            0.6666666666666666,
                            "#ed7953"
                          ],
                          [
                            0.7777777777777778,
                            "#fb9f3a"
                          ],
                          [
                            0.8888888888888888,
                            "#fdca26"
                          ],
                          [
                            1,
                            "#f0f921"
                          ]
                        ],
                        "type": "histogram2d"
                      }
                    ],
                    "histogram2dcontour": [
                      {
                        "colorbar": {
                          "outlinewidth": 0,
                          "ticks": ""
                        },
                        "colorscale": [
                          [
                            0,
                            "#0d0887"
                          ],
                          [
                            0.1111111111111111,
                            "#46039f"
                          ],
                          [
                            0.2222222222222222,
                            "#7201a8"
                          ],
                          [
                            0.3333333333333333,
                            "#9c179e"
                          ],
                          [
                            0.4444444444444444,
                            "#bd3786"
                          ],
                          [
                            0.5555555555555556,
                            "#d8576b"
                          ],
                          [
                            0.6666666666666666,
                            "#ed7953"
                          ],
                          [
                            0.7777777777777778,
                            "#fb9f3a"
                          ],
                          [
                            0.8888888888888888,
                            "#fdca26"
                          ],
                          [
                            1,
                            "#f0f921"
                          ]
                        ],
                        "type": "histogram2dcontour"
                      }
                    ],
                    "mesh3d": [
                      {
                        "colorbar": {
                          "outlinewidth": 0,
                          "ticks": ""
                        },
                        "type": "mesh3d"
                      }
                    ],
                    "parcoords": [
                      {
                        "line": {
                          "colorbar": {
                            "outlinewidth": 0,
                            "ticks": ""
                          }
                        },
                        "type": "parcoords"
                      }
                    ],
                    "pie": [
                      {
                        "automargin": true,
                        "type": "pie"
                      }
                    ],
                    "scatter": [
                      {
                        "fillpattern": {
                          "fillmode": "overlay",
                          "size": 10,
                          "solidity": 0.2
                        },
                        "type": "scatter"
                      }
                    ],
                    "scatter3d": [
                      {
                        "line": {
                          "colorbar": {
                            "outlinewidth": 0,
                            "ticks": ""
                          }
                        },
                        "marker": {
                          "colorbar": {
                            "outlinewidth": 0,
                            "ticks": ""
                          }
                        },
                        "type": "scatter3d"
                      }
                    ],
                    "scattercarpet": [
                      {
                        "marker": {
                          "colorbar": {
                            "outlinewidth": 0,
                            "ticks": ""
                          }
                        },
                        "type": "scattercarpet"
                      }
                    ],
                    "scattergeo": [
                      {
                        "marker": {
                          "colorbar": {
                            "outlinewidth": 0,
                            "ticks": ""
                          }
                        },
                        "type": "scattergeo"
                      }
                    ],
                    "scattergl": [
                      {
                        "marker": {
                          "colorbar": {
                            "outlinewidth": 0,
                            "ticks": ""
                          }
                        },
                        "type": "scattergl"
                      }
                    ],
                    "scattermap": [
                      {
                        "marker": {
                          "colorbar": {
                            "outlinewidth": 0,
                            "ticks": ""
                          }
                        },
                        "type": "scattermap"
                      }
                    ],
                    "scattermapbox": [
                      {
                        "marker": {
                          "colorbar": {
                            "outlinewidth": 0,
                            "ticks": ""
                          }
                        },
                        "type": "scattermapbox"
                      }
                    ],
                    "scatterpolar": [
                      {
                        "marker": {
                          "colorbar": {
                            "outlinewidth": 0,
                            "ticks": ""
                          }
                        },
                        "type": "scatterpolar"
                      }
                    ],
                    "scatterpolargl": [
                      {
                        "marker": {
                          "colorbar": {
                            "outlinewidth": 0,
                            "ticks": ""
                          }
                        },
                        "type": "scatterpolargl"
                      }
                    ],
                    "scatterternary": [
                      {
                        "marker": {
                          "colorbar": {
                            "outlinewidth": 0,
                            "ticks": ""
                          }
                        },
                        "type": "scatterternary"
                      }
                    ],
                    "surface": [
                      {
                        "colorbar": {
                          "outlinewidth": 0,
                          "ticks": ""
                        },
                        "colorscale": [
                          [
                            0,
                            "#0d0887"
                          ],
                          [
                            0.1111111111111111,
                            "#46039f"
                          ],
                          [
                            0.2222222222222222,
                            "#7201a8"
                          ],
                          [
                            0.3333333333333333,
                            "#9c179e"
                          ],
                          [
                            0.4444444444444444,
                            "#bd3786"
                          ],
                          [
                            0.5555555555555556,
                            "#d8576b"
                          ],
                          [
                            0.6666666666666666,
                            "#ed7953"
                          ],
                          [
                            0.7777777777777778,
                            "#fb9f3a"
                          ],
                          [
                            0.8888888888888888,
                            "#fdca26"
                          ],
                          [
                            1,
                            "#f0f921"
                          ]
                        ],
                        "type": "surface"
                      }
                    ],
                    "table": [
                      {
                        "cells": {
                          "fill": {
                            "color": "#EBF0F8"
                          },
                          "line": {
                            "color": "white"
                          }
                        },
                        "header": {
                          "fill": {
                            "color": "#C8D4E3"
                          },
                          "line": {
                            "color": "white"
                          }
                        },
                        "type": "table"
                      }
                    ]
                  },
                  "layout": {
                    "annotationdefaults": {
                      "arrowcolor": "#2a3f5f",
                      "arrowhead": 0,
                      "arrowwidth": 1
                    },
                    "autotypenumbers": "strict",
                    "coloraxis": {
                      "colorbar": {
                        "outlinewidth": 0,
                        "ticks": ""
                      }
                    },
                    "colorscale": {
                      "diverging": [
                        [
                          0,
                          "#8e0152"
                        ],
                        [
                          0.1,
                          "#c51b7d"
                        ],
                        [
                          0.2,
                          "#de77ae"
                        ],
                        [
                          0.3,
                          "#f1b6da"
                        ],
                        [
                          0.4,
                          "#fde0ef"
                        ],
                        [
                          0.5,
                          "#f7f7f7"
                        ],
                        [
                          0.6,
                          "#e6f5d0"
                        ],
                        [
                          0.7,
                          "#b8e186"
                        ],
                        [
                          0.8,
                          "#7fbc41"
                        ],
                        [
                          0.9,
                          "#4d9221"
                        ],
                        [
                          1,
                          "#276419"
                        ]
                      ],
                      "sequential": [
                        [
                          0,
                          "#0d0887"
                        ],
                        [
                          0.1111111111111111,
                          "#46039f"
                        ],
                        [
                          0.2222222222222222,
                          "#7201a8"
                        ],
                        [
                          0.3333333333333333,
                          "#9c179e"
                        ],
                        [
                          0.4444444444444444,
                          "#bd3786"
                        ],
                        [
                          0.5555555555555556,
                          "#d8576b"
                        ],
                        [
                          0.6666666666666666,
                          "#ed7953"
                        ],
                        [
                          0.7777777777777778,
                          "#fb9f3a"
                        ],
                        [
                          0.8888888888888888,
                          "#fdca26"
                        ],
                        [
                          1,
                          "#f0f921"
                        ]
                      ],
                      "sequentialminus": [
                        [
                          0,
                          "#0d0887"
                        ],
                        [
                          0.1111111111111111,
                          "#46039f"
                        ],
                        [
                          0.2222222222222222,
                          "#7201a8"
                        ],
                        [
                          0.3333333333333333,
                          "#9c179e"
                        ],
                        [
                          0.4444444444444444,
                          "#bd3786"
                        ],
                        [
                          0.5555555555555556,
                          "#d8576b"
                        ],
                        [
                          0.6666666666666666,
                          "#ed7953"
                        ],
                        [
                          0.7777777777777778,
                          "#fb9f3a"
                        ],
                        [
                          0.8888888888888888,
                          "#fdca26"
                        ],
                        [
                          1,
                          "#f0f921"
                        ]
                      ]
                    },
                    "colorway": [
                      "#636efa",
                      "#EF553B",
                      "#00cc96",
                      "#ab63fa",
                      "#FFA15A",
                      "#19d3f3",
                      "#FF6692",
                      "#B6E880",
                      "#FF97FF",
                      "#FECB52"
                    ],
                    "font": {
                      "color": "#2a3f5f"
                    },
                    "geo": {
                      "bgcolor": "white",
                      "lakecolor": "white",
                      "landcolor": "#E5ECF6",
                      "showlakes": true,
                      "showland": true,
                      "subunitcolor": "white"
                    },
                    "hoverlabel": {
                      "align": "left"
                    },
                    "hovermode": "closest",
                    "mapbox": {
                      "style": "light"
                    },
                    "paper_bgcolor": "white",
                    "plot_bgcolor": "#E5ECF6",
                    "polar": {
                      "angularaxis": {
                        "gridcolor": "white",
                        "linecolor": "white",
                        "ticks": ""
                      },
                      "bgcolor": "#E5ECF6",
                      "radialaxis": {
                        "gridcolor": "white",
                        "linecolor": "white",
                        "ticks": ""
                      }
                    },
                    "scene": {
                      "xaxis": {
                        "backgroundcolor": "#E5ECF6",
                        "gridcolor": "white",
                        "gridwidth": 2,
                        "linecolor": "white",
                        "showbackground": true,
                        "ticks": "",
                        "zerolinecolor": "white"
                      },
                      "yaxis": {
                        "backgroundcolor": "#E5ECF6",
                        "gridcolor": "white",
                        "gridwidth": 2,
                        "linecolor": "white",
                        "showbackground": true,
                        "ticks": "",
                        "zerolinecolor": "white"
                      },
                      "zaxis": {
                        "backgroundcolor": "#E5ECF6",
                        "gridcolor": "white",
                        "gridwidth": 2,
                        "linecolor": "white",
                        "showbackground": true,
                        "ticks": "",
                        "zerolinecolor": "white"
                      }
                    },
                    "shapedefaults": {
                      "line": {
                        "color": "#2a3f5f"
                      }
                    },
                    "ternary": {
                      "aaxis": {
                        "gridcolor": "white",
                        "linecolor": "white",
                        "ticks": ""
                      },
                      "baxis": {
                        "gridcolor": "white",
                        "linecolor": "white",
                        "ticks": ""
                      },
                      "bgcolor": "#E5ECF6",
                      "caxis": {
                        "gridcolor": "white",
                        "linecolor": "white",
                        "ticks": ""
                      }
                    },
                    "title": {
                      "x": 0.05
                    },
                    "xaxis": {
                      "automargin": true,
                      "gridcolor": "white",
                      "linecolor": "white",
                      "ticks": "",
                      "title": {
                        "standoff": 15
                      },
                      "zerolinecolor": "white",
                      "zerolinewidth": 2
                    },
                    "yaxis": {
                      "automargin": true,
                      "gridcolor": "white",
                      "linecolor": "white",
                      "ticks": "",
                      "title": {
                        "standoff": 15
                      },
                      "zerolinecolor": "white",
                      "zerolinewidth": 2
                    }
                  }
                },
                "title": {
                  "text": "Number of Prizes Awarded per Category split by Men and Women"
                },
                "xaxis": {
                  "anchor": "y",
                  "domain": [
                    0,
                    1
                  ],
                  "title": {
                    "text": "Nobel Prize Category"
                  }
                },
                "yaxis": {
                  "anchor": "x",
                  "domain": [
                    0,
                    1
                  ],
                  "title": {
                    "text": "Number of Prizes"
                  }
                }
              }
            }
          },
          "metadata": {},
          "output_type": "display_data"
        }
      ],
      "source": [
        "v_bar_split = px.bar(x = cat_men_women.category,\n",
        "                     y = cat_men_women.prize,\n",
        "                     color = cat_men_women.sex,\n",
        "                     title='Number of Prizes Awarded per Category split by Men and Women')\n",
        " \n",
        "v_bar_split.update_layout(xaxis_title='Nobel Prize Category', \n",
        "                          yaxis_title='Number of Prizes')\n",
        "v_bar_split.show()\n"
      ]
    },
    {
      "cell_type": "markdown",
      "metadata": {
        "id": "CpHaV-ZDo7MD"
      },
      "source": [
        "# Number of Prizes Awarded Over Time\n",
        "\n",
        "**Challenge**: Are more prizes awarded recently than when the prize was first created? Show the trend in awards visually. \n",
        "* Count the number of prizes awarded every year. \n",
        "* Create a 5 year rolling average of the number of prizes (Hint: see previous lessons analysing Google Trends).\n",
        "* Using Matplotlib superimpose the rolling average on a scatter plot.\n",
        "* Show a tick mark on the x-axis for every 5 years from 1900 to 2020. (Hint: you'll need to use NumPy). \n",
        "\n",
        "<img src=https://i.imgur.com/4jqYuWC.png width=650>\n",
        "\n",
        "* Use the [named colours](https://matplotlib.org/3.1.0/gallery/color/named_colors.html) to draw the data points in `dogerblue` while the rolling average is coloured in `crimson`. \n",
        "\n",
        "<img src=https://i.imgur.com/u3RlcJn.png width=350>\n",
        "\n",
        "* Looking at the chart, did the first and second world wars have an impact on the number of prizes being given out? \n",
        "* What could be the reason for the trend in the chart?\n"
      ]
    },
    {
      "cell_type": "code",
      "execution_count": 37,
      "metadata": {
        "id": "gD316Xp5Ftsj"
      },
      "outputs": [
        {
          "data": {
            "text/plain": [
              "year\n",
              "1901     6\n",
              "1902     7\n",
              "1903     7\n",
              "1904     6\n",
              "1905     5\n",
              "        ..\n",
              "2016    11\n",
              "2017    12\n",
              "2018    13\n",
              "2019    14\n",
              "2020    12\n",
              "Name: prize, Length: 117, dtype: int64"
            ]
          },
          "execution_count": 37,
          "metadata": {},
          "output_type": "execute_result"
        }
      ],
      "source": [
        "prize_per_year = df_data.groupby(by='year').count().prize\n",
        "prize_per_year"
      ]
    },
    {
      "cell_type": "code",
      "execution_count": 39,
      "metadata": {
        "id": "Jjm3G7VHFtx1"
      },
      "outputs": [
        {
          "data": {
            "text/plain": [
              "year\n",
              "1901     NaN\n",
              "1902     NaN\n",
              "1903     NaN\n",
              "1904     NaN\n",
              "1905    6.20\n",
              "        ... \n",
              "2016   11.60\n",
              "2017   12.00\n",
              "2018   12.00\n",
              "2019   12.20\n",
              "2020   12.40\n",
              "Name: prize, Length: 117, dtype: float64"
            ]
          },
          "execution_count": 39,
          "metadata": {},
          "output_type": "execute_result"
        }
      ],
      "source": [
        "moving_average = prize_per_year.rolling(window=5).mean()\n",
        "moving_average"
      ]
    },
    {
      "cell_type": "code",
      "execution_count": 47,
      "metadata": {
        "id": "NgVzgknLFtvP"
      },
      "outputs": [
        {
          "data": {
            "image/png": "[encoded data removed]",
            "text/plain": [
              "<Figure size 3200x1600 with 1 Axes>"
            ]
          },
          "metadata": {},
          "output_type": "display_data"
        }
      ],
      "source": [
        "plt.figure(figsize=(16,8), dpi=200)\n",
        "plt.title('Number of Nobel Prizes Awarded per Year', fontsize=18)\n",
        "plt.yticks(fontsize=14)\n",
        "plt.xticks(ticks=np.arange(1900, 2021, step=5), \n",
        "           fontsize=14, \n",
        "           rotation=45)\n",
        " \n",
        "ax = plt.gca() # get current axis\n",
        "ax.set_xlim(1900, 2020)\n",
        " \n",
        "ax.scatter(x=prize_per_year.index, \n",
        "           y=prize_per_year.values, \n",
        "           c='dodgerblue',\n",
        "           alpha=0.7,\n",
        "           s=100,)\n",
        " \n",
        "ax.plot(prize_per_year.index, \n",
        "        moving_average.values, \n",
        "        c='crimson', \n",
        "        linewidth=3,)\n",
        " \n",
        "plt.show()"
      ]
    },
    {
      "cell_type": "code",
      "execution_count": null,
      "metadata": {
        "id": "mWQImXL3FtkO"
      },
      "outputs": [],
      "source": []
    },
    {
      "cell_type": "markdown",
      "metadata": {
        "id": "gZWAAkdJo7MJ"
      },
      "source": [
        "# Are More Prizes Shared Than Before?\n",
        "\n",
        "**Challenge**: Investigate if more prizes are shared than before. \n",
        "\n",
        "* Calculate the average prize share of the winners on a year by year basis.\n",
        "* Calculate the 5 year rolling average of the percentage share.\n",
        "* Copy-paste the cell from the chart you created above.\n",
        "* Modify the code to add a secondary axis to your Matplotlib chart.\n",
        "* Plot the rolling average of the prize share on this chart. \n",
        "* See if you can invert the secondary y-axis to make the relationship even more clear. "
      ]
    },
    {
      "cell_type": "code",
      "execution_count": 48,
      "metadata": {
        "id": "If8-ZFoOFwph"
      },
      "outputs": [],
      "source": [
        "yearly_avg_share = df_data.groupby(by='year').agg({'share_pct': pd.Series.mean})\n",
        "share_moving_average = yearly_avg_share.rolling(window=5).mean()"
      ]
    },
    {
      "cell_type": "code",
      "execution_count": 49,
      "metadata": {
        "id": "QRen05_6Fw0y"
      },
      "outputs": [
        {
          "data": {
            "text/html": [
              "<div>\n",
              "<style scoped>\n",
              "    .dataframe tbody tr th:only-of-type {\n",
              "        vertical-align: middle;\n",
              "    }\n",
              "\n",
              "    .dataframe tbody tr th {\n",
              "        vertical-align: top;\n",
              "    }\n",
              "\n",
              "    .dataframe thead th {\n",
              "        text-align: right;\n",
              "    }\n",
              "</style>\n",
              "<table border=\"1\" class=\"dataframe\">\n",
              "  <thead>\n",
              "    <tr style=\"text-align: right;\">\n",
              "      <th></th>\n",
              "      <th>share_pct</th>\n",
              "    </tr>\n",
              "    <tr>\n",
              "      <th>year</th>\n",
              "      <th></th>\n",
              "    </tr>\n",
              "  </thead>\n",
              "  <tbody>\n",
              "    <tr>\n",
              "      <th>1901</th>\n",
              "      <td>0.83</td>\n",
              "    </tr>\n",
              "    <tr>\n",
              "      <th>1902</th>\n",
              "      <td>0.71</td>\n",
              "    </tr>\n",
              "    <tr>\n",
              "      <th>1903</th>\n",
              "      <td>0.71</td>\n",
              "    </tr>\n",
              "    <tr>\n",
              "      <th>1904</th>\n",
              "      <td>0.83</td>\n",
              "    </tr>\n",
              "    <tr>\n",
              "      <th>1905</th>\n",
              "      <td>1.00</td>\n",
              "    </tr>\n",
              "    <tr>\n",
              "      <th>...</th>\n",
              "      <td>...</td>\n",
              "    </tr>\n",
              "    <tr>\n",
              "      <th>2016</th>\n",
              "      <td>0.55</td>\n",
              "    </tr>\n",
              "    <tr>\n",
              "      <th>2017</th>\n",
              "      <td>0.50</td>\n",
              "    </tr>\n",
              "    <tr>\n",
              "      <th>2018</th>\n",
              "      <td>0.46</td>\n",
              "    </tr>\n",
              "    <tr>\n",
              "      <th>2019</th>\n",
              "      <td>0.43</td>\n",
              "    </tr>\n",
              "    <tr>\n",
              "      <th>2020</th>\n",
              "      <td>0.50</td>\n",
              "    </tr>\n",
              "  </tbody>\n",
              "</table>\n",
              "<p>117 rows × 1 columns</p>\n",
              "</div>"
            ],
            "text/plain": [
              "      share_pct\n",
              "year           \n",
              "1901       0.83\n",
              "1902       0.71\n",
              "1903       0.71\n",
              "1904       0.83\n",
              "1905       1.00\n",
              "...         ...\n",
              "2016       0.55\n",
              "2017       0.50\n",
              "2018       0.46\n",
              "2019       0.43\n",
              "2020       0.50\n",
              "\n",
              "[117 rows x 1 columns]"
            ]
          },
          "execution_count": 49,
          "metadata": {},
          "output_type": "execute_result"
        }
      ],
      "source": [
        "yearly_avg_share"
      ]
    },
    {
      "cell_type": "code",
      "execution_count": 51,
      "metadata": {
        "id": "4kLSGNPkFxPd"
      },
      "outputs": [
        {
          "data": {
            "image/png": "[encoded data removed]",
            "text/plain": [
              "<Figure size 3200x1600 with 2 Axes>"
            ]
          },
          "metadata": {},
          "output_type": "display_data"
        }
      ],
      "source": [
        "plt.figure(figsize=(16,8), dpi=200)\n",
        "plt.title('Number of Nobel Prizes Awarded per Year', fontsize=18)\n",
        "plt.yticks(fontsize=14)\n",
        "plt.xticks(ticks=np.arange(1900, 2021, step=5), \n",
        "           fontsize=14, \n",
        "           rotation=45)\n",
        " \n",
        "ax1 = plt.gca()\n",
        "ax2 = ax1.twinx() # create second y-axis\n",
        "ax1.set_xlim(1900, 2020)\n",
        "\n",
        "ax2.invert_yaxis()\n",
        " \n",
        "ax1.scatter(x=prize_per_year.index, \n",
        "           y=prize_per_year.values, \n",
        "           c='dodgerblue',\n",
        "           alpha=0.7,\n",
        "           s=100,)\n",
        " \n",
        "ax1.plot(prize_per_year.index, \n",
        "        moving_average.values, \n",
        "        c='crimson', \n",
        "        linewidth=3,)\n",
        " \n",
        "# Adding prize share plot on second axis\n",
        "ax2.plot(prize_per_year.index, \n",
        "        share_moving_average.values, \n",
        "        c='grey', \n",
        "        linewidth=3,)\n",
        " \n",
        "plt.show()"
      ]
    },
    {
      "cell_type": "code",
      "execution_count": null,
      "metadata": {
        "id": "nPBzjo_gFwsb"
      },
      "outputs": [],
      "source": []
    },
    {
      "cell_type": "code",
      "execution_count": null,
      "metadata": {
        "id": "207bX8O7Fwih"
      },
      "outputs": [],
      "source": []
    },
    {
      "cell_type": "markdown",
      "metadata": {
        "dc": {
          "key": "3"
        },
        "id": "L32lWu0Oo7MM",
        "run_control": {
          "frozen": true
        },
        "tags": [
          "context"
        ]
      },
      "source": [
        "# The Countries with the Most Nobel Prizes"
      ]
    },
    {
      "cell_type": "markdown",
      "metadata": {
        "id": "UipIHU54o7MN"
      },
      "source": [
        "**Challenge**: \n",
        "* Create a Pandas DataFrame called `top20_countries` that has the two columns. The `prize` column should contain the total number of prizes won. \n",
        "\n",
        "<img src=https://i.imgur.com/6HM8rfB.png width=350>\n",
        "\n",
        "* Is it best to use `birth_country`, `birth_country_current` or `organization_country`? \n",
        "* What are some potential problems when using `birth_country` or any of the others? Which column is the least problematic? \n",
        "* Then use plotly to create a horizontal bar chart showing the number of prizes won by each country. Here's what you're after:\n",
        "\n",
        "<img src=https://i.imgur.com/agcJdRS.png width=750>\n",
        "\n",
        "* What is the ranking for the top 20 countries in terms of the number of prizes?"
      ]
    },
    {
      "cell_type": "code",
      "execution_count": null,
      "metadata": {
        "id": "cscYI4BvFzjC"
      },
      "outputs": [],
      "source": []
    },
    {
      "cell_type": "code",
      "execution_count": null,
      "metadata": {
        "id": "Zl2rqcVKFz9P"
      },
      "outputs": [],
      "source": []
    },
    {
      "cell_type": "code",
      "execution_count": null,
      "metadata": {
        "id": "ivVVhHa1F20p"
      },
      "outputs": [],
      "source": []
    },
    {
      "cell_type": "code",
      "execution_count": null,
      "metadata": {
        "id": "eAFgX9_2Fz2W"
      },
      "outputs": [],
      "source": []
    },
    {
      "cell_type": "code",
      "execution_count": null,
      "metadata": {
        "id": "botUfiYDFzbL"
      },
      "outputs": [],
      "source": []
    },
    {
      "cell_type": "markdown",
      "metadata": {
        "id": "uNTvKsrzo7MR"
      },
      "source": [
        "# Use a Choropleth Map to Show the Number of Prizes Won by Country\n",
        "\n",
        "* Create this choropleth map using [the plotly documentation](https://plotly.com/python/choropleth-maps/):\n",
        "\n",
        "<img src=https://i.imgur.com/s4lqYZH.png>\n",
        "\n",
        "* Experiment with [plotly's available colours](https://plotly.com/python/builtin-colorscales/). I quite like the sequential colour `matter` on this map. \n",
        "\n",
        "Hint: You'll need to use a 3 letter country code for each country. \n"
      ]
    },
    {
      "cell_type": "code",
      "execution_count": null,
      "metadata": {
        "id": "2YT8MN4sF4Hs"
      },
      "outputs": [],
      "source": []
    },
    {
      "cell_type": "code",
      "execution_count": null,
      "metadata": {
        "id": "4O5jNBUYF4pD"
      },
      "outputs": [],
      "source": []
    },
    {
      "cell_type": "code",
      "execution_count": null,
      "metadata": {
        "id": "18QSc3EzF43z"
      },
      "outputs": [],
      "source": []
    },
    {
      "cell_type": "code",
      "execution_count": null,
      "metadata": {
        "id": "GIiWUNoGF4ga"
      },
      "outputs": [],
      "source": []
    },
    {
      "cell_type": "code",
      "execution_count": null,
      "metadata": {
        "id": "B7CgFAhiF3wv"
      },
      "outputs": [],
      "source": []
    },
    {
      "cell_type": "markdown",
      "metadata": {
        "id": "hNB-HUw0o7MU"
      },
      "source": [
        "# In Which Categories are the Different Countries Winning Prizes? \n",
        "\n",
        "**Challenge**: See if you can divide up the plotly bar chart you created above to show the which categories made up the total number of prizes. Here's what you're aiming for:\n",
        "\n",
        "<img src=https://i.imgur.com/iGaIKCL.png>\n",
        "\n",
        "* In which category are Germany and Japan the weakest compared to the United States?\n",
        "* In which category does Germany have more prizes than the UK?\n",
        "* In which categories does France have more prizes than Germany?\n",
        "* Which category makes up most of Australia's nobel prizes?\n",
        "* Which category makes up half of the prizes in the Netherlands?\n",
        "* Does the United States have more prizes in Economics than all of France? What about in Physics or Medicine?\n",
        "\n",
        "\n",
        "The hard part is preparing the data for this chart! \n",
        "\n",
        "\n",
        "*Hint*: Take a two-step approach. The first step is grouping the data by country and category. Then you can create a DataFrame that looks something like this:\n",
        "\n",
        "<img src=https://i.imgur.com/VKjzKa1.png width=450>\n"
      ]
    },
    {
      "cell_type": "code",
      "execution_count": null,
      "metadata": {
        "id": "_BuNdpmEF7wR"
      },
      "outputs": [],
      "source": []
    },
    {
      "cell_type": "code",
      "execution_count": null,
      "metadata": {
        "id": "l5eYtGIXF8Mn"
      },
      "outputs": [],
      "source": []
    },
    {
      "cell_type": "code",
      "execution_count": null,
      "metadata": {
        "id": "AJO038bkF8YK"
      },
      "outputs": [],
      "source": []
    },
    {
      "cell_type": "code",
      "execution_count": null,
      "metadata": {
        "id": "8H2OTr_OF8Jh"
      },
      "outputs": [],
      "source": []
    },
    {
      "cell_type": "code",
      "execution_count": null,
      "metadata": {
        "id": "ZTbCsyRKF7yx"
      },
      "outputs": [],
      "source": []
    },
    {
      "cell_type": "code",
      "execution_count": null,
      "metadata": {
        "id": "DhE2gyZhF7oQ"
      },
      "outputs": [],
      "source": []
    },
    {
      "cell_type": "markdown",
      "metadata": {
        "dc": {
          "key": "10"
        },
        "id": "Ic-LN14bo7Mb",
        "run_control": {
          "frozen": true
        },
        "tags": [
          "context"
        ]
      },
      "source": [
        "### Number of Prizes Won by Each Country Over Time\n",
        "\n",
        "* When did the United States eclipse every other country in terms of the number of prizes won? \n",
        "* Which country or countries were leading previously?\n",
        "* Calculate the cumulative number of prizes won by each country in every year. Again, use the `birth_country_current` of the winner to calculate this. \n",
        "* Create a [plotly line chart](https://plotly.com/python/line-charts/) where each country is a coloured line. "
      ]
    },
    {
      "cell_type": "code",
      "execution_count": null,
      "metadata": {
        "id": "VA7NVxrwF-1d"
      },
      "outputs": [],
      "source": []
    },
    {
      "cell_type": "code",
      "execution_count": null,
      "metadata": {
        "id": "_IWG-gi0F_O4"
      },
      "outputs": [],
      "source": []
    },
    {
      "cell_type": "code",
      "execution_count": null,
      "metadata": {
        "id": "4wj1M8NpF_dq"
      },
      "outputs": [],
      "source": []
    },
    {
      "cell_type": "code",
      "execution_count": null,
      "metadata": {
        "id": "ncYD0dKCF_IK"
      },
      "outputs": [],
      "source": []
    },
    {
      "cell_type": "code",
      "execution_count": null,
      "metadata": {
        "id": "7tnA9YoOF_1L"
      },
      "outputs": [],
      "source": []
    },
    {
      "cell_type": "code",
      "execution_count": null,
      "metadata": {
        "id": "F6B7oCPTF-sV"
      },
      "outputs": [],
      "source": []
    },
    {
      "cell_type": "markdown",
      "metadata": {
        "id": "J7WUUZpUo7Mj"
      },
      "source": [
        "# What are the Top Research Organisations?\n",
        "\n",
        "**Challenge**: Create a bar chart showing the organisations affiliated with the Nobel laureates. It should looks something like this:\n",
        "\n",
        "<img src=https://i.imgur.com/zZihj2p.png width=600>\n",
        "\n",
        "* Which organisations make up the top 20?\n",
        "* How many Nobel prize winners are affiliated with the University of Chicago and Harvard University?"
      ]
    },
    {
      "cell_type": "code",
      "execution_count": null,
      "metadata": {
        "id": "2jdCXcqcGCxL"
      },
      "outputs": [],
      "source": []
    },
    {
      "cell_type": "code",
      "execution_count": null,
      "metadata": {
        "id": "Db3Zll65GDQd"
      },
      "outputs": [],
      "source": []
    },
    {
      "cell_type": "code",
      "execution_count": null,
      "metadata": {
        "id": "rRDeI_jjGDII"
      },
      "outputs": [],
      "source": []
    },
    {
      "cell_type": "code",
      "execution_count": null,
      "metadata": {
        "id": "zH4Bko6UGEc3"
      },
      "outputs": [],
      "source": []
    },
    {
      "cell_type": "code",
      "execution_count": null,
      "metadata": {
        "id": "C_wDWepRGCpL"
      },
      "outputs": [],
      "source": []
    },
    {
      "cell_type": "markdown",
      "metadata": {
        "id": "d9AXIRyNo7Mp"
      },
      "source": [
        "# Which Cities Make the Most Discoveries? \n",
        "\n",
        "Where do major discoveries take place?  \n",
        "\n",
        "**Challenge**: \n",
        "* Create another plotly bar chart graphing the top 20 organisation cities of the research institutions associated with a Nobel laureate. \n",
        "* Where is the number one hotspot for discoveries in the world?\n",
        "* Which city in Europe has had the most discoveries?"
      ]
    },
    {
      "cell_type": "code",
      "execution_count": null,
      "metadata": {
        "id": "sHYI5FLAGFRh"
      },
      "outputs": [],
      "source": []
    },
    {
      "cell_type": "code",
      "execution_count": null,
      "metadata": {
        "id": "rsI7xC0sGFOb"
      },
      "outputs": [],
      "source": []
    },
    {
      "cell_type": "markdown",
      "metadata": {
        "id": "R6UQrcixo7Mm"
      },
      "source": [
        "# Where are Nobel Laureates Born? Chart the Laureate Birth Cities \n",
        "\n",
        "**Challenge**: \n",
        "* Create a plotly bar chart graphing the top 20 birth cities of Nobel laureates. \n",
        "* Use a named colour scale called `Plasma` for the chart.\n",
        "* What percentage of the United States prizes came from Nobel laureates born in New York? \n",
        "* How many Nobel laureates were born in London, Paris and Vienna? \n",
        "* Out of the top 5 cities, how many are in the United States?\n"
      ]
    },
    {
      "cell_type": "code",
      "execution_count": null,
      "metadata": {
        "id": "JukPm21GGG9i"
      },
      "outputs": [],
      "source": []
    },
    {
      "cell_type": "code",
      "execution_count": null,
      "metadata": {
        "id": "t14pn2kxGG2C"
      },
      "outputs": [],
      "source": []
    },
    {
      "cell_type": "markdown",
      "metadata": {
        "id": "YN6KxT5oo7Mq"
      },
      "source": [
        "# Plotly Sunburst Chart: Combine Country, City, and Organisation\n",
        "\n",
        "**Challenge**: \n",
        "\n",
        "* Create a DataFrame that groups the number of prizes by organisation. \n",
        "* Then use the [plotly documentation to create a sunburst chart](https://plotly.com/python/sunburst-charts/)\n",
        "* Click around in your chart, what do you notice about Germany and France? \n",
        "\n",
        "\n",
        "Here's what you're aiming for:\n",
        "\n",
        "<img src=https://i.imgur.com/cemX4m5.png width=300>\n",
        "\n"
      ]
    },
    {
      "cell_type": "code",
      "execution_count": null,
      "metadata": {
        "id": "jGOx7MxCGI20"
      },
      "outputs": [],
      "source": []
    },
    {
      "cell_type": "code",
      "execution_count": null,
      "metadata": {
        "id": "l1DPxFgRGJBg"
      },
      "outputs": [],
      "source": []
    },
    {
      "cell_type": "code",
      "execution_count": null,
      "metadata": {
        "id": "BJQoljdqGIu3"
      },
      "outputs": [],
      "source": []
    },
    {
      "cell_type": "markdown",
      "metadata": {
        "id": "PW4jvWFWo7Mv"
      },
      "source": [
        "# Patterns in the Laureate Age at the Time of the Award\n",
        "\n",
        "How Old Are the Laureates When the Win the Prize?\n",
        "\n",
        "**Challenge**: Calculate the age of the laureate in the year of the ceremony and add this as a column called `winning_age` to the `df_data` DataFrame. Hint: you can use [this](https://pandas.pydata.org/pandas-docs/stable/reference/api/pandas.Series.dt.html) to help you. \n",
        "\n"
      ]
    },
    {
      "cell_type": "code",
      "execution_count": null,
      "metadata": {
        "id": "2f4JpfUCGLd2"
      },
      "outputs": [],
      "source": []
    },
    {
      "cell_type": "code",
      "execution_count": null,
      "metadata": {
        "id": "jHkFqlGnGLnf"
      },
      "outputs": [],
      "source": []
    },
    {
      "cell_type": "code",
      "execution_count": null,
      "metadata": {
        "id": "-Ooq0xoPGLV_"
      },
      "outputs": [],
      "source": []
    },
    {
      "cell_type": "markdown",
      "metadata": {
        "dc": {
          "key": "66"
        },
        "id": "09344hnCo7My",
        "run_control": {
          "frozen": true
        },
        "tags": [
          "context"
        ]
      },
      "source": [
        "### Who were the oldest and youngest winners?\n",
        "\n",
        "**Challenge**: \n",
        "* What are the names of the youngest and oldest Nobel laureate? \n",
        "* What did they win the prize for?\n",
        "* What is the average age of a winner?\n",
        "* 75% of laureates are younger than what age when they receive the prize?\n",
        "* Use Seaborn to [create histogram](https://seaborn.pydata.org/generated/seaborn.histplot.html) to visualise the distribution of laureate age at the time of winning. Experiment with the number of `bins` to see how the visualisation changes."
      ]
    },
    {
      "cell_type": "code",
      "execution_count": null,
      "metadata": {
        "id": "IzGfeUyNGNcR"
      },
      "outputs": [],
      "source": []
    },
    {
      "cell_type": "code",
      "execution_count": null,
      "metadata": {
        "id": "inN6ggCUGNUy"
      },
      "outputs": [],
      "source": []
    },
    {
      "cell_type": "markdown",
      "metadata": {
        "id": "UQxMUPddo6fo"
      },
      "source": [
        "### Descriptive Statistics for the Laureate Age at Time of Award\n",
        "\n",
        "* Calculate the descriptive statistics for the age at the time of the award. \n",
        "* Then visualise the distribution in the form of a histogram using [Seaborn's .histplot() function](https://seaborn.pydata.org/generated/seaborn.histplot.html).\n",
        "* Experiment with the `bin` size. Try 10, 20, 30, and 50.  "
      ]
    },
    {
      "cell_type": "code",
      "execution_count": null,
      "metadata": {
        "id": "6vlp5S0WGO98"
      },
      "outputs": [],
      "source": []
    },
    {
      "cell_type": "code",
      "execution_count": null,
      "metadata": {
        "id": "P6cAIrB5GO24"
      },
      "outputs": [],
      "source": []
    },
    {
      "cell_type": "markdown",
      "metadata": {
        "id": "gljdi8sxpkg7"
      },
      "source": [
        "### Age at Time of Award throughout History\n",
        "\n",
        "Are Nobel laureates being nominated later in life than before? Have the ages of laureates at the time of the award increased or decreased over time?\n",
        "\n",
        "**Challenge**\n",
        "\n",
        "* Use Seaborn to [create a .regplot](https://seaborn.pydata.org/generated/seaborn.regplot.html?highlight=regplot#seaborn.regplot) with a trendline.\n",
        "* Set the `lowess` parameter to `True` to show a moving average of the linear fit.\n",
        "* According to the best fit line, how old were Nobel laureates in the years 1900-1940 when they were awarded the prize?\n",
        "* According to the best fit line, what age would it predict for a Nobel laureate in 2020?\n"
      ]
    },
    {
      "cell_type": "code",
      "execution_count": null,
      "metadata": {
        "id": "AjUdtyB9GQ9w"
      },
      "outputs": [],
      "source": []
    },
    {
      "cell_type": "code",
      "execution_count": null,
      "metadata": {
        "id": "B_NsO6aaGQzu"
      },
      "outputs": [],
      "source": []
    },
    {
      "cell_type": "markdown",
      "metadata": {
        "dc": {
          "key": "59"
        },
        "id": "CPFMftF9o7M5",
        "run_control": {
          "frozen": true
        },
        "tags": [
          "context"
        ]
      },
      "source": [
        "### Winning Age Across the Nobel Prize Categories\n",
        "\n",
        "How does the age of laureates vary by category? \n",
        "\n",
        "* Use Seaborn's [`.boxplot()`](https://seaborn.pydata.org/generated/seaborn.boxplot.html?highlight=boxplot#seaborn.boxplot) to show how the mean, quartiles, max, and minimum values vary across categories. Which category has the longest \"whiskers\"? \n",
        "* In which prize category are the average winners the oldest?\n",
        "* In which prize category are the average winners the youngest?"
      ]
    },
    {
      "cell_type": "code",
      "execution_count": null,
      "metadata": {
        "id": "mbpG0Kj5GSxg"
      },
      "outputs": [],
      "source": []
    },
    {
      "cell_type": "code",
      "execution_count": null,
      "metadata": {
        "id": "WiGT3CmuGSqp"
      },
      "outputs": [],
      "source": []
    },
    {
      "cell_type": "markdown",
      "metadata": {
        "id": "M9qE0P4-8i5L"
      },
      "source": [
        "**Challenge**\n",
        "* Now use Seaborn's [`.lmplot()`](https://seaborn.pydata.org/generated/seaborn.lmplot.html?highlight=lmplot#seaborn.lmplot) and the `row` parameter to create 6 separate charts for each prize category. Again set `lowess` to `True`.\n",
        "* What are the winning age trends in each category? \n",
        "* Which category has the age trending up and which category has the age trending down? \n",
        "* Is this `.lmplot()` telling a different story from the `.boxplot()`?\n",
        "* Create another chart with Seaborn. This time use `.lmplot()` to put all 6 categories on the same chart using the `hue` parameter. \n"
      ]
    },
    {
      "cell_type": "code",
      "execution_count": null,
      "metadata": {
        "id": "HcdLGWC7GUb7"
      },
      "outputs": [],
      "source": []
    },
    {
      "cell_type": "code",
      "execution_count": null,
      "metadata": {
        "id": "8HwP_swVGUiq"
      },
      "outputs": [],
      "source": []
    },
    {
      "cell_type": "code",
      "execution_count": null,
      "metadata": {
        "id": "Ml9w1jFjGUTi"
      },
      "outputs": [],
      "source": []
    },
    {
      "cell_type": "code",
      "execution_count": null,
      "metadata": {
        "id": "PJD0-Opko7M_"
      },
      "outputs": [],
      "source": []
    },
    {
      "cell_type": "code",
      "execution_count": null,
      "metadata": {
        "id": "9F9f_2HZo7NA"
      },
      "outputs": [],
      "source": []
    }
  ],
  "metadata": {
    "colab": {
      "name": "Nobel Prize Analysis (start).ipynb",
      "provenance": []
    },
    "kernelspec": {
      "display_name": ".venv",
      "language": "python",
      "name": "python3"
    },
    "language_info": {
      "codemirror_mode": {
        "name": "ipython",
        "version": 3
      },
      "file_extension": ".py",
      "mimetype": "text/x-python",
      "name": "python",
      "nbconvert_exporter": "python",
      "pygments_lexer": "ipython3",
      "version": "3.13.0"
    }
  },
  "nbformat": 4,
  "nbformat_minor": 0
}
